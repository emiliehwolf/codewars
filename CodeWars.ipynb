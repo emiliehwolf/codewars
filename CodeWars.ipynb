{
 "cells": [
  {
   "cell_type": "markdown",
   "id": "7b0ffc04",
   "metadata": {},
   "source": [
    "Write a function that takes an integer as input, and returns the number of bits that are equal to one in the binary representation of that number. You can guarantee that input is non-negative.\n",
    "\n",
    "Example: The binary representation of 1234 is 10011010010, so the function should return 5 in this case"
   ]
  },
  {
   "cell_type": "code",
   "execution_count": null,
   "id": "545c0b2d",
   "metadata": {},
   "outputs": [],
   "source": [
    "def (int x):\n",
    "    return bin(x).replace(\"0b\", \"\").count('1')\n",
    "    \n",
    "    \n",
    "    \n"
   ]
  },
  {
   "cell_type": "code",
   "execution_count": null,
   "id": "5c35d664",
   "metadata": {},
   "outputs": [],
   "source": [
    "n=1234\n",
    "n=bin(n)\n",
    "\n",
    "print(n)"
   ]
  },
  {
   "cell_type": "code",
   "execution_count": null,
   "id": "98ca9d84",
   "metadata": {},
   "outputs": [],
   "source": [
    "y=7\n",
    "bin(7).replace(\"0b\", \"\").count('1')"
   ]
  },
  {
   "cell_type": "code",
   "execution_count": null,
   "id": "5e34b8c3",
   "metadata": {},
   "outputs": [],
   "source": [
    "bin(7)"
   ]
  },
  {
   "cell_type": "markdown",
   "id": "4ede2d58",
   "metadata": {},
   "source": [
    "A square of squares\n",
    "You like building blocks. You especially like building blocks that are squares. And what you even like more, is to arrange them into a square of square building blocks!\n",
    "\n",
    "However, sometimes, you can't arrange them into a square. Instead, you end up with an ordinary rectangle! Those blasted things! If you just had a way to know, whether you're currently working in vain… Wait! That's it! You just have to check if your number of building blocks is a perfect square.\n",
    "\n",
    "Task\n",
    "Given an integral number, determine if it's a square number:\n",
    "\n",
    "In mathematics, a square number or perfect square is an integer that is the square of an integer; in other words, it is the product of some integer with itself.\n",
    "\n",
    "The tests will always use some integral number, so don't worry about that in dynamic typed languages. Don't import math.\n",
    "\n",
    "Examples\n",
    "-1  =>  false\n",
    " 0  =>  true\n",
    " 3  =>  false\n",
    " 4  =>  true\n",
    "25  =>  true\n",
    "26  =>  false"
   ]
  },
  {
   "cell_type": "code",
   "execution_count": null,
   "id": "8f2fbfc6",
   "metadata": {},
   "outputs": [],
   "source": [
    "n=16\n",
    "\n",
    "len(str(n))"
   ]
  },
  {
   "cell_type": "code",
   "execution_count": null,
   "id": "27c4d8d6",
   "metadata": {},
   "outputs": [],
   "source": [
    "n=101\n",
    "\n",
    "        \n",
    "print(root)"
   ]
  },
  {
   "cell_type": "markdown",
   "id": "fb02e5cd",
   "metadata": {},
   "source": [
    "Given an array of integers, find the one that appears an odd number of times.\n",
    "\n",
    "There will always be only one integer that appears an odd number of times.\n",
    "\n",
    "Examples\n",
    "[7] should return 7, because it occurs 1 time (which is odd).\n",
    "[0] should return 0, because it occurs 1 time (which is odd).\n",
    "[1,1,2] should return 2, because it occurs 1 time (which is odd).\n",
    "[0,1,0,1,0] should return 0, because it occurs 3 times (which is odd).\n",
    "[1,2,2,3,3,3,4,3,3,3,2,2,1] should return 4, because it appears 1 time (which is odd)."
   ]
  },
  {
   "cell_type": "code",
   "execution_count": null,
   "id": "bfd20012",
   "metadata": {},
   "outputs": [],
   "source": [
    "seq = [0,0,0,0,33,33,55]\n",
    "\n",
    "count = {}\n",
    "\n",
    "for item in seq:\n",
    "    if item not in count:\n",
    "        count[item]=1\n",
    "    else:\n",
    "        count[item]+=1\n",
    "\n",
    "for item in count.items():\n",
    "    if item[1] % 2 != 0:\n",
    "        print(item[0])"
   ]
  },
  {
   "cell_type": "code",
   "execution_count": null,
   "id": "49d04764",
   "metadata": {},
   "outputs": [],
   "source": [
    "for i in seq:\n",
    "    if seq.count(i)%2!=0:\n",
    "        print(i)"
   ]
  },
  {
   "cell_type": "code",
   "execution_count": null,
   "id": "79380824",
   "metadata": {},
   "outputs": [],
   "source": [
    "seq.count(55)"
   ]
  },
  {
   "cell_type": "code",
   "execution_count": null,
   "id": "044b1c42",
   "metadata": {},
   "outputs": [],
   "source": [
    "seq.count(0)"
   ]
  },
  {
   "cell_type": "markdown",
   "id": "fadb1645",
   "metadata": {},
   "source": [
    "Write a function, persistence, that takes in a positive parameter num and returns its multiplicative persistence, which is the number of times you must multiply the digits in num until you reach a single digit.\n",
    "\n",
    "For example:\n",
    "\n",
    " persistence(39) # returns 3, because 3*9=27, 2*7=14, 1*4=4\n",
    "                 # and 4 has only one digit\n",
    "                  \n",
    " persistence(999) # returns 4, because 9*9*9=729, 7*2*9=126,\n",
    "                  # 1*2*6=12, and finally 1*2=2\n",
    "\n",
    " persistence(4) # returns 0, because 4 is already a one-digit number"
   ]
  },
  {
   "cell_type": "code",
   "execution_count": 11,
   "id": "b72bd928",
   "metadata": {},
   "outputs": [
    {
     "name": "stdout",
     "output_type": "stream",
     "text": [
      "4\n"
     ]
    }
   ],
   "source": [
    "n=999\n",
    "counter=0\n",
    "\n",
    "while len(str(n))>1:\n",
    "    counter+=1\n",
    "    mult = 1\n",
    "    for i in list(str(n)):\n",
    "        mult *= int(i)\n",
    "    n = mult    \n",
    "        \n",
    "print(counter)"
   ]
  },
  {
   "cell_type": "code",
   "execution_count": null,
   "id": "aa6b729f",
   "metadata": {},
   "outputs": [],
   "source": []
  }
 ],
 "metadata": {
  "kernelspec": {
   "display_name": "Python 3",
   "language": "python",
   "name": "python3"
  },
  "language_info": {
   "codemirror_mode": {
    "name": "ipython",
    "version": 3
   },
   "file_extension": ".py",
   "mimetype": "text/x-python",
   "name": "python",
   "nbconvert_exporter": "python",
   "pygments_lexer": "ipython3",
   "version": "3.8.8"
  }
 },
 "nbformat": 4,
 "nbformat_minor": 5
}
