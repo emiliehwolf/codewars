{
 "cells": [
  {
   "cell_type": "markdown",
   "id": "b6f25bda",
   "metadata": {},
   "source": [
    "# My Solutions vs \"Best Practice\"\n",
    "\n",
    "***"
   ]
  },
  {
   "cell_type": "markdown",
   "id": "3f0593b0",
   "metadata": {},
   "source": [
    "# Kata - Extract Domain from URL\n",
    "Write a function that when given a URL as a string, parses out just the domain name and returns it as a string. For example:\n",
    "```\n",
    "domain_name(\"http://github.com/carbonfive/raygun\") == \"github\" \n",
    "domain_name(\"http://www.zombie-bites.com\") == \"zombie-bites\"\n",
    "domain_name(\"https://www.cnet.com\") == \"cnet\"\n",
    "```"
   ]
  },
  {
   "cell_type": "code",
   "execution_count": 51,
   "id": "3d3f5a95",
   "metadata": {},
   "outputs": [],
   "source": [
    "# My Solution\n",
    "\n",
    "def domain_name(url):    \n",
    "    return url.replace('http://', '').replace('https://', '').replace('www.', '').split('.')[0]"
   ]
  },
  {
   "cell_type": "code",
   "execution_count": null,
   "id": "a7a2951d",
   "metadata": {},
   "outputs": [],
   "source": [
    "# Highest Ranked Solution\n",
    "\n",
    "def domain_name(url):\n",
    "    return url.split(\"//\")[-1].split(\"www.\")[-1].split(\".\")[0]"
   ]
  },
  {
   "cell_type": "markdown",
   "id": "01ac1fe2",
   "metadata": {},
   "source": [
    "# Kata - Encrypt this!\n",
    "\n",
    "You want to create secret messages which can be deciphered by the Decipher this! kata. Here are the conditions:\n",
    "\n",
    "Your message is a string containing space separated words.\n",
    "You need to encrypt each word in the message using the following rules:\n",
    "The first letter must be converted to its ASCII code.\n",
    "The second letter must be switched with the last letter\n",
    "Keepin' it simple: There are no special characters in the input.\n",
    "Examples:\n",
    "```\n",
    "encrypt_this(\"Hello\") == \"72olle\"\n",
    "encrypt_this(\"good\") == \"103doo\"\n",
    "encrypt_this(\"hello world\") == \"104olle 119drlo\"\n",
    "```"
   ]
  },
  {
   "cell_type": "code",
   "execution_count": 43,
   "id": "0c28718c",
   "metadata": {},
   "outputs": [
    {
     "name": "stdout",
     "output_type": "stream",
     "text": [
      "65 119esi 111dl 111lw 108dvei 105n 97n 111ka\n"
     ]
    }
   ],
   "source": [
    "# My Solution\n",
    "\n",
    "def encrypt_this(text):\n",
    "    \n",
    "    newtext = []\n",
    "    \n",
    "    for w in text.split():\n",
    "        if len(w)>2:\n",
    "            newtext.append(str(ord(w[0]))+w[-1]+w[2:-1]+w[1])\n",
    "        elif len(w)==2:\n",
    "            newtext.append(str(ord(w[0]))+w[1])\n",
    "        else:\n",
    "            newtext.append(str(ord(w[0])))\n",
    "        \n",
    "    return ' '.join(newtext)"
   ]
  },
  {
   "cell_type": "code",
   "execution_count": null,
   "id": "ed5e2c23",
   "metadata": {},
   "outputs": [],
   "source": [
    "# Highest Ranked Solution\n",
    "\n",
    "def encrypt_this(text):\n",
    "    result = []\n",
    "    \n",
    "    for word in text.split():\n",
    "        # turn word into a list\n",
    "        word = list(word)\n",
    "        \n",
    "        # replace first letter with ascii code\n",
    "        word[0] = str(ord(word[0]))\n",
    "        \n",
    "        # switch 2nd and last letters\n",
    "        if len(word) > 2:\n",
    "            word[1], word[-1] = word[-1], word[1]\n",
    "        \n",
    "        # add to results\n",
    "        result.append(''.join(word))\n",
    "    \n",
    "    return ' '.join(result)"
   ]
  },
  {
   "cell_type": "markdown",
   "id": "129791cd",
   "metadata": {},
   "source": [
    "# Kata - Pangram\n",
    "\n",
    "A pangram is a sentence that contains every single letter of the alphabet at least once. For example, the sentence \"The quick brown fox jumps over the lazy dog\" is a pangram, because it uses the letters A-Z at least once (case is irrelevant).\n",
    "\n",
    "Given a string, detect whether or not it is a pangram. Return True if it is, False if not. Ignore numbers and punctuation."
   ]
  },
  {
   "cell_type": "code",
   "execution_count": 19,
   "id": "9dd73b9d",
   "metadata": {},
   "outputs": [],
   "source": [
    "# My Solution\n",
    "\n",
    "def is_pangram(s):\n",
    "\n",
    "    s = ''.join(x for x in s if x.isalpha())\n",
    "    s = s.lower()\n",
    "    return set(s) == set(\"abcdefghijklmnopqrstuvwxyz\")"
   ]
  },
  {
   "cell_type": "code",
   "execution_count": null,
   "id": "cb38073e",
   "metadata": {},
   "outputs": [],
   "source": [
    "# Highest Ranked Solution\n",
    "\n",
    "import string\n",
    "\n",
    "def is_pangram(s):\n",
    "    return set(string.lowercase) <= set(s.lower())"
   ]
  },
  {
   "cell_type": "markdown",
   "id": "e20a3dac",
   "metadata": {},
   "source": [
    "# Kata - find peaks in num arrays\n",
    "\n",
    "In this kata, you will write a function that returns the positions and the values of the \"peaks\" (or local maxima) of a numeric array.\n",
    "\n",
    "For example, the array arr = [0, 1, 2, 5, 1, 0] has a peak at position 3 with a value of 5 (since arr[3] equals 5).\n",
    "\n",
    "The output will be returned as an object with two properties: pos and peaks. Both of these properties should be arrays. If there is no peak in the given array, then the output should be {pos: [], peaks: []}.\n",
    "\n",
    "Example: pickPeaks([3, 2, 3, 6, 4, 1, 2, 3, 2, 1, 2, 3]) should return {pos: [3, 7], peaks: [6, 3]} (or equivalent in other languages)\n",
    "\n",
    "All input arrays will be valid integer arrays (although it could still be empty), so you won't need to validate the input.\n",
    "\n",
    "The first and last elements of the array will not be considered as peaks (in the context of a mathematical function, we don't know what is after and before and therefore, we don't know if it is a peak or not).\n",
    "\n",
    "Also, beware of plateaus !!! [1, 2, 2, 2, 1] has a peak while [1, 2, 2, 2, 3] and [1, 2, 2, 2, 2] do not. In case of a plateau-peak, please only return the position and value of the beginning of the plateau. For example: pickPeaks([1, 2, 2, 2, 1]) returns {pos: [1], peaks: [2]} (or equivalent in other languages)\n",
    "\n",
    "Have fun!"
   ]
  },
  {
   "cell_type": "code",
   "execution_count": null,
   "id": "fed081eb",
   "metadata": {},
   "outputs": [],
   "source": [
    "# My Solution\n",
    "\n",
    "def pick_peaks(arr):\n",
    "    pos = []\n",
    "    peaks = []\n",
    "    temppos = None\n",
    "    temppeak = None\n",
    "\n",
    "    if len(arr)>2:\n",
    "\n",
    "        for i,n in enumerate(arr):\n",
    "            if i==0: continue\n",
    "            if i==len(arr)-1: break\n",
    "\n",
    "            if n > arr[i-1] and n > arr[i+1]:\n",
    "                pos.append(i)\n",
    "                peaks.append(n)\n",
    "\n",
    "            if n > arr[i-1] and n == arr[i+1]:\n",
    "                temppos = i\n",
    "                temppeak = n\n",
    "\n",
    "            if n == arr[i-1] and n > arr[i+1]:\n",
    "                if temppos:\n",
    "                    pos.append(temppos)\n",
    "                    peaks.append(temppeak)\n",
    "                    temppos = None\n",
    "                    temppeak = None\n",
    "\n",
    "    return {'pos':pos,'peaks':peaks}"
   ]
  },
  {
   "cell_type": "code",
   "execution_count": 9,
   "id": "414a1302",
   "metadata": {},
   "outputs": [],
   "source": [
    "# Highest Ranked Solution\n",
    "\n",
    "def pick_peaks(arr):\n",
    "    pos = []\n",
    "    prob_peak = False\n",
    "    for i in range(1, len(arr)):\n",
    "        if arr[i] > arr[i-1]:\n",
    "            prob_peak = i\n",
    "        elif arr[i] < arr[i-1] and prob_peak:\n",
    "            pos.append(prob_peak)\n",
    "            prob_peak = False\n",
    "    return {'pos':pos, 'peaks':[arr[i] for i in pos]}"
   ]
  },
  {
   "cell_type": "markdown",
   "id": "be2ff486",
   "metadata": {},
   "source": [
    "# Kata\n",
    "Your goal is to return multiplication table for number that is always an integer from 1 to 10.\n",
    "\n",
    "For example, a multiplication table (string) for number == 5 looks like below:\n",
    "```\n",
    "1 * 5 = 5\n",
    "2 * 5 = 10\n",
    "3 * 5 = 15\n",
    "4 * 5 = 20\n",
    "5 * 5 = 25\n",
    "6 * 5 = 30\n",
    "7 * 5 = 35\n",
    "8 * 5 = 40\n",
    "9 * 5 = 45\n",
    "10 * 5 = 50\n",
    "```\n",
    "P. S. You can use \\n in string to jump to the next line.\n",
    "\n",
    "Note: newlines should be added between rows, but there should be no trailing newline at the end. If you're unsure about the format, look at the sample tests."
   ]
  },
  {
   "cell_type": "code",
   "execution_count": null,
   "id": "5b02bdfd",
   "metadata": {},
   "outputs": [],
   "source": [
    "# My Solution\n",
    "\n",
    "def multi_table(number):\n",
    "    table = ''\n",
    "    \n",
    "    for i in range(1,11):\n",
    "        table = table + str(i) + ' * ' + str(number) + ' = ' + str(i*number)\n",
    "        if i <10:\n",
    "            table += '\\n'\n",
    "    \n",
    "    return table"
   ]
  },
  {
   "cell_type": "code",
   "execution_count": null,
   "id": "14bc9728",
   "metadata": {},
   "outputs": [],
   "source": [
    "# Highest Ranked Solution\n",
    "\n",
    "def multi_table(number):\n",
    "    return '\\n'.join(f'{i} * {number} = {i * number}' for i in range(1, 11))"
   ]
  },
  {
   "cell_type": "markdown",
   "id": "fbe50286",
   "metadata": {},
   "source": [
    "## Kata \n",
    "\n",
    "Write a function named first_non_repeating_letter that takes a string input, and returns the first character that is not repeated anywhere in the string.\n",
    "\n",
    "For example, if given the input 'stress', the function should return 't', since the letter t only occurs once in the string, and occurs first in the string.\n",
    "\n",
    "As an added challenge, upper- and lowercase letters are considered the same character, but the function should return the correct case for the initial letter. For example, the input 'sTreSS' should return 'T'.\n",
    "\n",
    "If a string contains all repeating characters, it should return an empty string (\"\") or None -- see sample tests."
   ]
  },
  {
   "cell_type": "code",
   "execution_count": null,
   "id": "434ddfb0",
   "metadata": {},
   "outputs": [],
   "source": [
    "# My Solution\n",
    "\n",
    "def first_non_repeating_letter(string):\n",
    "    for i in string:\n",
    "        if string.lower().count(i.lower()) == 1:\n",
    "            return i\n",
    "    return ''"
   ]
  },
  {
   "cell_type": "code",
   "execution_count": null,
   "id": "55f40422",
   "metadata": {},
   "outputs": [],
   "source": [
    "# Highest Ranked Solution\n",
    "\n",
    "def first_non_repeating_letter(string):\n",
    "    singles = [i for i in string if string.lower().count(i.lower()) == 1]\n",
    "    return singles[0] if singles else ''"
   ]
  },
  {
   "cell_type": "markdown",
   "id": "b3ba779a",
   "metadata": {},
   "source": [
    "## Kata - How many cakes?\n",
    "\n",
    "Pete likes to bake some cakes. He has some recipes and ingredients. Unfortunately he is not good in maths. Can you help him to find out, how many cakes he could bake considering his recipes?\n",
    "\n",
    "Write a function cakes(), which takes the recipe (object) and the available ingredients (also an object) and returns the maximum number of cakes Pete can bake (integer). For simplicity there are no units for the amounts (e.g. 1 lb of flour or 200 g of sugar are simply 1 or 200). Ingredients that are not present in the objects, can be considered as 0.\n",
    "\n",
    "Examples:\n",
    "\n",
    "```py\n",
    "# must return 2\n",
    "cakes({flour: 500, sugar: 200, eggs: 1}, {flour: 1200, sugar: 1200, eggs: 5, milk: 200})\n",
    "# must return 0\n",
    "cakes({apples: 3, flour: 300, sugar: 150, milk: 100, oil: 100}, {sugar: 500, flour: 2000, milk: 2000})\n",
    "```"
   ]
  },
  {
   "cell_type": "code",
   "execution_count": null,
   "id": "715509f0",
   "metadata": {},
   "outputs": [],
   "source": [
    "# My Solution \n",
    "\n",
    "def cakes(recipe, available):\n",
    "    multiples = []\n",
    "    \n",
    "    for i, key in enumerate(recipe.keys()):\n",
    "        if key not in available.keys():\n",
    "            return 0  \n",
    "        multiples.append(available[key]//recipe[key])\n",
    "\n",
    "    return min(multiples)"
   ]
  },
  {
   "cell_type": "code",
   "execution_count": null,
   "id": "93743b40",
   "metadata": {},
   "outputs": [],
   "source": [
    "# Highest Ranked Solution\n",
    "\n",
    "def cakes(recipe, available):\n",
    "    return min(available.get(k, 0)/recipe[k] for k in recipe)\n",
    "    # .get() fetches a value from a dictonary based on a key and if none found then it gets set to 0 "
   ]
  },
  {
   "cell_type": "code",
   "execution_count": null,
   "id": "66ba5eae",
   "metadata": {},
   "outputs": [],
   "source": [
    "# Next Best\n",
    "\n",
    "def cakes(recipe, available):\n",
    "    try:\n",
    "        return min([available[a]/recipe[a] for a in recipe])\n",
    "    except:\n",
    "        return 0"
   ]
  },
  {
   "cell_type": "markdown",
   "id": "318d0035",
   "metadata": {},
   "source": [
    "## Kata - Traverse digits in a number and output boolean\n",
    "A Narcissistic Number is a positive number which is the sum of its own digits, each raised to the power of the number of digits in a given base. In this Kata, we will restrict ourselves to decimal (base 10).\n",
    "\n",
    "For example, take 153 (3 digits), which is narcisstic:\n",
    "\n",
    "    1^3 + 5^3 + 3^3 = 1 + 125 + 27 = 153\n",
    "\n",
    "and 1652 (4 digits), which isn't:\n",
    "\n",
    "    1^4 + 6^4 + 5^4 + 2^4 = 1 + 1296 + 625 + 16 = 1938\n",
    "\n",
    "#### The Challenge:\n",
    "Your code must return true or false (not 'true' and 'false') depending upon whether the given number is a Narcissistic number in base 10. This may be True and False in your language, e.g. PHP.\n",
    "\n",
    "Error checking for text strings or other invalid inputs is not required, only valid positive non-zero integers will be passed into the function."
   ]
  },
  {
   "cell_type": "code",
   "execution_count": null,
   "id": "92138bd6",
   "metadata": {},
   "outputs": [],
   "source": [
    "# My Solution\n",
    "\n",
    "def narcissistic( value ):\n",
    "    power = len(str(value))\n",
    "    sum = 0\n",
    "    for i in str(value):\n",
    "        sum += int(i)**power\n",
    "        \n",
    "    return sum==value"
   ]
  },
  {
   "cell_type": "code",
   "execution_count": null,
   "id": "cdb4d67f",
   "metadata": {},
   "outputs": [],
   "source": [
    "# Highest Ranked Solution\n",
    "\n",
    "def narcissistic(value):\n",
    "    return value == sum(int(x) ** len(str(value)) for x in str(value))"
   ]
  },
  {
   "cell_type": "markdown",
   "id": "433c12a8",
   "metadata": {},
   "source": [
    "## Kata - Traverse a string, output a list of strings\n",
    "\n",
    "#### Task\n",
    "In this simple Kata your task is to create a function that turns a string into a Mexican Wave. You will be passed a string and you must return that string in an array where an uppercase letter is a person standing up. \n",
    "#### Rules\n",
    " 1.  The input string will always be lower case but maybe empty.\n",
    "\n",
    " 2.  If the character in the string is whitespace then pass over it as if it was an empty seat\n",
    "Example:\n",
    "\n",
    "    ```wave(\"hello\") => [\"Hello\", \"hEllo\", \"heLlo\", \"helLo\", \"hellO\"]```"
   ]
  },
  {
   "cell_type": "code",
   "execution_count": null,
   "id": "78c24aba",
   "metadata": {},
   "outputs": [],
   "source": [
    "# My Solution\n",
    "\n",
    "def wave(string):    \n",
    "    pplarray = []    \n",
    "    for i in range(len(string)):\n",
    "        if string[i]==' ':\n",
    "            continue           \n",
    "        char=string[i].upper()\n",
    "        pplarray.append(string[:i]+char+string[i+1:])  \n",
    "        \n",
    "    return pplarray"
   ]
  },
  {
   "cell_type": "code",
   "execution_count": null,
   "id": "60e23ad0",
   "metadata": {},
   "outputs": [],
   "source": [
    "# Highest Ranked Solution\n",
    "\n",
    "def wave(str):\n",
    "    return [str[:i] + str[i].upper() + str[i+1:] for i in range(len(str)) if str[i].isalpha()]"
   ]
  },
  {
   "cell_type": "markdown",
   "id": "6ab135a9",
   "metadata": {},
   "source": [
    "## Kata - Spot the unique integer in a list\n",
    "\n",
    "There is an array with some numbers. All numbers are equal except for one. Try to find it!\n",
    "```\n",
    "find_uniq([ 1, 1, 1, 2, 1, 1 ]) == 2\n",
    "find_uniq([ 0, 0, 0.55, 0, 0 ]) == 0.55\n",
    "```\n",
    "It’s guaranteed that array contains at least 3 numbers.\n",
    "\n",
    "The tests contain some very huge arrays, so think about performance."
   ]
  },
  {
   "cell_type": "code",
   "execution_count": null,
   "id": "96be3044",
   "metadata": {},
   "outputs": [],
   "source": [
    "# My Solution\n",
    "\n",
    "def find_uniq(arr):\n",
    "    if arr[0]==arr[-1]:\n",
    "        dupe_value = arr[0]\n",
    "        for i in arr:\n",
    "            if i != dupe_value:\n",
    "                n = i\n",
    "                break\n",
    "    elif arr[0]==arr[1]:\n",
    "        n = arr[-1]\n",
    "    else:\n",
    "        n=arr[0]\n",
    "    return n  "
   ]
  },
  {
   "cell_type": "code",
   "execution_count": null,
   "id": "3e575ce8",
   "metadata": {},
   "outputs": [],
   "source": [
    "# Highest Ranked Solution\n",
    "\n",
    "def find_uniq(arr):\n",
    "    a, b = set(arr)\n",
    "    return a if arr.count(a) == 1 else b"
   ]
  },
  {
   "cell_type": "markdown",
   "id": "6c03a509",
   "metadata": {},
   "source": [
    "## Kata - Decimal to Hexidecimal\n",
    "\n",
    "The rgb function is incomplete. Complete it so that passing in RGB decimal values will result in a hexadecimal representation being returned. Valid decimal values for RGB are 0 - 255. Any values that fall out of that range must be rounded to the closest valid value.\n",
    "\n",
    "Note: Your answer should always be 6 characters long, the shorthand with 3 will not work here.\n",
    "\n",
    "The following are examples of expected output values:\n",
    "```\n",
    "rgb(255, 255, 255) # returns FFFFFF\n",
    "rgb(255, 255, 300) # returns FFFFFF\n",
    "rgb(0,0,0) # returns 000000\n",
    "rgb(148, 0, 211) # returns 9400D3\n",
    "```"
   ]
  },
  {
   "cell_type": "code",
   "execution_count": null,
   "id": "f4b48cc6",
   "metadata": {},
   "outputs": [],
   "source": [
    "# My Solution\n",
    "\n",
    "def rgb(r, g, b):\n",
    "    hexstring = ''\n",
    "    \n",
    "    for d in [r,g,b]:\n",
    "        if d<0:\n",
    "            d=0\n",
    "        if d>255:\n",
    "            d=255\n",
    "        quo = d//16\n",
    "        rem = d%16\n",
    "           \n",
    "        for v in [quo,rem]:\n",
    "            if v==10:\n",
    "                v='A'\n",
    "            elif v==11:\n",
    "                v='B'\n",
    "            elif v==12:\n",
    "                v='C'\n",
    "            elif v==13:\n",
    "                v='D'\n",
    "            elif v==14:\n",
    "                v='E'\n",
    "            elif v==15:\n",
    "                v='F'\n",
    "            else:\n",
    "                v=str(v)   \n",
    "            hexstring += v\n",
    "            \n",
    "    return hexstring"
   ]
  },
  {
   "cell_type": "code",
   "execution_count": null,
   "id": "85ead7f7",
   "metadata": {},
   "outputs": [],
   "source": [
    "# Highest Ranked Solution\n",
    "\n",
    "def rgb(r, g, b):\n",
    "    round = lambda x: min(255, max(x, 0))\n",
    "    return (\"{:02X}\" * 3).format(round(r), round(g), round(b))"
   ]
  },
  {
   "cell_type": "markdown",
   "id": "471bf514",
   "metadata": {},
   "source": [
    "## Kata - Loop thru an integer, multiply the digits, and count\n",
    "\n",
    "Write a function, persistence, that takes in a positive parameter num and returns its multiplicative persistence, which is the number of times you must multiply the digits in num until you reach a single digit.\n",
    "\n",
    "For example:\n",
    "\n",
    "    persistence(39) # returns 3, because 3*9=27, 2*7=14, 1*4=4\n",
    "                 # and 4 has only one digit\n",
    "                  \n",
    "    persistence(999) # returns 4, because 9*9*9=729, 7*2*9=126,\n",
    "                  # 1*2*6=12, and finally 1*2=2\n",
    "\n",
    "    persistence(4) # returns 0, because 4 is already a one-digit number"
   ]
  },
  {
   "cell_type": "code",
   "execution_count": null,
   "id": "0f3377e0",
   "metadata": {},
   "outputs": [],
   "source": [
    "# My Solution\n",
    "\n",
    "def persistence(n):\n",
    "    counter=0\n",
    "\n",
    "    while len(str(n))>1:\n",
    "        counter+=1\n",
    "        mult = 1\n",
    "        for i in list(str(n)):\n",
    "            mult *= int(i)\n",
    "        n = mult    \n",
    "\n",
    "    return counter"
   ]
  },
  {
   "cell_type": "code",
   "execution_count": null,
   "id": "f09f1cb9",
   "metadata": {},
   "outputs": [],
   "source": [
    "# Highest Ranked Solution\n",
    "\n",
    "import operator\n",
    "def persistence(n):\n",
    "    i = 0\n",
    "    while n>=10:\n",
    "        n=reduce(operator.mul,[int(x) for x in str(n)],1)\n",
    "        i+=1\n",
    "    return i"
   ]
  },
  {
   "cell_type": "markdown",
   "id": "45dd29d7",
   "metadata": {},
   "source": [
    "## Kata - Find odd integer in a list\n",
    "\n",
    "Given an array of integers, find the one that appears an odd number of times.\n",
    "\n",
    "There will always be only one integer that appears an odd number of times.\n",
    "\n",
    "Examples\n",
    "\n",
    "    [7] should return 7, because it occurs 1 time (which is odd).\n",
    "    [0] should return 0, because it occurs 1 time (which is odd).\n",
    "    [1,1,2] should return 2, because it occurs 1 time (which is odd).\n",
    "    [0,1,0,1,0] should return 0, because it occurs 3 times (which is odd).\n",
    "    [1,2,2,3,3,3,4,3,3,3,2,2,1] should return 4, because it appears 1 time (which is odd)."
   ]
  },
  {
   "cell_type": "code",
   "execution_count": null,
   "id": "179fac5c",
   "metadata": {},
   "outputs": [],
   "source": [
    "# My Solution\n",
    "\n",
    "def find_it(seq):\n",
    "    \n",
    "    # create empty dictionary\n",
    "    count = {}\n",
    "\n",
    "    # traverse the array\n",
    "    for item in seq:\n",
    "        \n",
    "        # create a new key-value pair for each unique element\n",
    "        if item not in count:   \n",
    "            count[item]=1\n",
    "            \n",
    "        # increment the value by 1 each time the key is repeated\n",
    "        else:\n",
    "            count[item]+=1\n",
    "\n",
    "    # traverse the dictionary, tuple by tuple\n",
    "    for item in count.items():\n",
    "        \n",
    "        # if the dictionary value is odd, return the dictionary key\n",
    "        if item[1] % 2 != 0:\n",
    "            return item[0]"
   ]
  },
  {
   "cell_type": "code",
   "execution_count": null,
   "id": "31718103",
   "metadata": {},
   "outputs": [],
   "source": [
    "# Highest Ranked Solution\n",
    "\n",
    "def find_it(seq):\n",
    "    for i in seq:\n",
    "        if seq.count(i)%2!=0:\n",
    "            return i"
   ]
  },
  {
   "cell_type": "markdown",
   "id": "51cb2860",
   "metadata": {},
   "source": [
    "## Kata - Count bits\n",
    "\n",
    "Write a function that takes an integer as input, and returns the number of bits that are equal to one in the binary representation of that number. You can guarantee that input is non-negative.\n",
    "\n",
    "Example: The binary representation of 1234 is 10011010010, so the function should return 5 in this case"
   ]
  },
  {
   "cell_type": "code",
   "execution_count": null,
   "id": "b193f4fa",
   "metadata": {},
   "outputs": [],
   "source": [
    "# My Solution\n",
    "\n",
    "def count_bits(n):\n",
    "    return bin(n).replace(\"0b\", \"\").count('1')"
   ]
  },
  {
   "cell_type": "code",
   "execution_count": null,
   "id": "606b2b15",
   "metadata": {},
   "outputs": [],
   "source": [
    "# Highest Ranked Solution\n",
    "\n",
    "def countBits(n):\n",
    "    return bin(n).count(\"1\")"
   ]
  },
  {
   "cell_type": "markdown",
   "id": "6c8b1f41",
   "metadata": {},
   "source": [
    "## Kata - Traverse digits in an integer, square them, and rejoin into new string\n",
    "\n",
    "Welcome. In this kata, you are asked to square every digit of a number and concatenate them.\n",
    "\n",
    "For example, if we run 9119 through the function, 811181 will come out, because 9^2 is 81 and 1^2 is 1.\n",
    "\n",
    "Note: The function accepts an integer and returns an integer"
   ]
  },
  {
   "cell_type": "code",
   "execution_count": null,
   "id": "318db021",
   "metadata": {},
   "outputs": [],
   "source": [
    "# My Solution\n",
    "\n",
    "def square_digits(num):\n",
    "    return int(''.join(str(v) for v in [int(x)**2 for x in str(num)]))"
   ]
  },
  {
   "cell_type": "code",
   "execution_count": null,
   "id": "58b4bf91",
   "metadata": {},
   "outputs": [],
   "source": [
    "# Highest Ranked Solution\n",
    "\n",
    "def square_digits(num):\n",
    "    ret = \"\"\n",
    "    for x in str(num):\n",
    "        ret += str(int(x)**2)\n",
    "    return int(ret)"
   ]
  },
  {
   "cell_type": "markdown",
   "id": "7f9c245d",
   "metadata": {},
   "source": [
    "## Kata - Rearrange numbers in descending order\n",
    "\n",
    "Your task is to make a function that can take any non-negative integer as an argument and return it with its digits in descending order. Essentially, rearrange the digits to create the highest possible number.\n",
    "\n",
    "Examples:\n",
    "\n",
    "    Input: 42145 Output: 54421\n",
    "\n",
    "    Input: 145263 Output: 654321\n",
    "\n",
    "    Input: 123456789 Output: 987654321"
   ]
  },
  {
   "cell_type": "code",
   "execution_count": null,
   "id": "42decbed",
   "metadata": {},
   "outputs": [],
   "source": [
    "# My Solution\n",
    "\n",
    "def descending_order(num):\n",
    "    \n",
    "    sortednum = sorted([char for char in str(num)], reverse=True)\n",
    "\n",
    "    newstr=''\n",
    "\n",
    "    for x in sortednum:\n",
    "        newstr+=x \n",
    "\n",
    "    return int(newstr)"
   ]
  },
  {
   "cell_type": "code",
   "execution_count": null,
   "id": "acc092e0",
   "metadata": {},
   "outputs": [],
   "source": [
    "# Highest Ranked Solution\n",
    "\n",
    "def Descending_Order(num):\n",
    "    return int(\"\".join(sorted(str(num), reverse=True)))"
   ]
  },
  {
   "cell_type": "markdown",
   "id": "f42ff515",
   "metadata": {},
   "source": [
    "## Kata - Sum of all multiples of 3 or 5 below n\n",
    "\n",
    "If we list all the natural numbers below 10 that are multiples of 3 or 5, we get 3, 5, 6 and 9. The sum of these multiples is 23.\n",
    "\n",
    "Finish the solution so that it returns the sum of all the multiples of 3 or 5 below the number passed in. Additionally, if the number is negative, return 0 (for languages that do have them).\n",
    "\n",
    "Note: If the number is a multiple of both 3 and 5, only count it once."
   ]
  },
  {
   "cell_type": "code",
   "execution_count": null,
   "id": "fa24a327",
   "metadata": {},
   "outputs": [],
   "source": [
    "# My Solution\n",
    "\n",
    "def solution(number):\n",
    "    s=0\n",
    "    if number>0:\n",
    "        for i in range(number):\n",
    "            if i%3==0 or i%5==0:\n",
    "                s+=i\n",
    "    return s"
   ]
  },
  {
   "cell_type": "code",
   "execution_count": null,
   "id": "baeb7559",
   "metadata": {},
   "outputs": [],
   "source": [
    "# Highest Ranked Solution\n",
    "\n",
    "def solution(number):\n",
    "    return sum(x for x in range(number) if x % 3 == 0 or x % 5 == 0)"
   ]
  },
  {
   "cell_type": "markdown",
   "id": "2cd20174",
   "metadata": {},
   "source": [
    "## Kata - Multiply \n",
    "\n"
   ]
  },
  {
   "cell_type": "code",
   "execution_count": null,
   "id": "f15126ec",
   "metadata": {},
   "outputs": [],
   "source": [
    "# My Solution\n",
    "\n",
    "def multiply(a, b):\n",
    "    return a * b"
   ]
  },
  {
   "cell_type": "code",
   "execution_count": null,
   "id": "2af34a56",
   "metadata": {},
   "outputs": [],
   "source": [
    "# Highest Ranked Solution\n",
    "\n",
    "def multiply(a, b):\n",
    "    if isinstance(a, (int, float, complex)):\n",
    "        if isinstance(b, (int, float, complex)):\n",
    "            return a * b"
   ]
  },
  {
   "cell_type": "markdown",
   "id": "dc86843f",
   "metadata": {},
   "source": [
    "## Kata - Change String to Cipher\n",
    "\n",
    "ROT13 is a simple letter substitution cipher that replaces a letter with the letter 13 letters after it in the alphabet. ROT13 is an example of the Caesar cipher.\n",
    "\n",
    "Create a function that takes a string and returns the string ciphered with Rot13. If there are numbers or special characters included in the string, they should be returned as they are. Only letters from the latin/english alphabet should be shifted, like in the original Rot13 \"implementation\".\n",
    "\n",
    "Please note that using `encode` is considered cheating."
   ]
  },
  {
   "cell_type": "code",
   "execution_count": null,
   "id": "cb3b2c88",
   "metadata": {},
   "outputs": [],
   "source": [
    "# My Solution\n",
    "\n",
    "def rot13(message):\n",
    "    \n",
    "    cipher = ''\n",
    "    \n",
    "    for char in message:\n",
    "        \n",
    "        u = ord(char)\n",
    "        \n",
    "        if u>=65 and u<=90:\n",
    "            \n",
    "            u = u+13\n",
    "            if u>90:\n",
    "                u = u-26   \n",
    "            \n",
    "        elif u>=97 and u<=122:\n",
    "            \n",
    "            u = u+13\n",
    "            if u >122:\n",
    "                u = u-26\n",
    "            \n",
    "        cipher += chr(u)    \n",
    "        \n",
    "    return cipher"
   ]
  },
  {
   "cell_type": "code",
   "execution_count": null,
   "id": "f699a296",
   "metadata": {},
   "outputs": [],
   "source": [
    "# Highest Ranked Solution\n",
    "\n",
    "def rot13(message):\n",
    "    abc = \"abcdefghijklmnopqrstuvwxyzABCDEFGHIJKLMNOPQRSTUVWXYZ\"\n",
    "    cba = \"nopqrstuvwxyzabcdefghijklmNOPQRSTUVWXYZABCDEFGHIJKLM\"\n",
    "    mytable = message.maketrans(abc, cba)\n",
    "    return message.translate(mytable)"
   ]
  }
 ],
 "metadata": {
  "kernelspec": {
   "display_name": "Python 3",
   "language": "python",
   "name": "python3"
  },
  "language_info": {
   "codemirror_mode": {
    "name": "ipython",
    "version": 3
   },
   "file_extension": ".py",
   "mimetype": "text/x-python",
   "name": "python",
   "nbconvert_exporter": "python",
   "pygments_lexer": "ipython3",
   "version": "3.8.8"
  }
 },
 "nbformat": 4,
 "nbformat_minor": 5
}
