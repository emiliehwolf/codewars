{
 "cells": [
  {
   "cell_type": "markdown",
   "id": "b6f25bda",
   "metadata": {},
   "source": [
    "# My Solutions vs \"Best Practice\"\n",
    "\n",
    "***"
   ]
  },
  {
   "cell_type": "code",
   "execution_count": null,
   "id": "884e9d2d",
   "metadata": {},
   "outputs": [],
   "source": []
  },
  {
   "cell_type": "code",
   "execution_count": null,
   "id": "9d5a9974",
   "metadata": {},
   "outputs": [],
   "source": []
  },
  {
   "cell_type": "code",
   "execution_count": null,
   "id": "ebb915b1",
   "metadata": {},
   "outputs": [],
   "source": []
  },
  {
   "cell_type": "markdown",
   "id": "7c3d7460",
   "metadata": {},
   "source": [
    "# Kata - Counting Change Combinations\n",
    "\n",
    "https://www.codewars.com/kata/541af676b589989aed0009e7/train/python\n",
    "\n",
    "Write a function that counts how many different ways you can make change for an amount of money, given an array of coin denominations. For example, there are 3 ways to give change for 4 if you have coins with denomination 1 and 2:\n",
    "\n",
    "```1+1+1+1, 1+1+2, 2+2.```\n",
    "\n",
    "\n",
    "The order of coins does not matter:\n",
    "\n",
    "```1+1+2 == 2+1+1```\n",
    "\n",
    "\n",
    "Also, assume that you have an infinite amount of coins.\n",
    "\n",
    "Your function should take an amount to change and an array of unique denominations for the coins:\n",
    "```\n",
    "  count_change(4, [1,2]) # => 3\n",
    "  count_change(10, [5,2,3]) # => 4\n",
    "  count_change(11, [5,7]) # => 0\n",
    "```"
   ]
  },
  {
   "cell_type": "code",
   "execution_count": 7,
   "id": "8017fb3e",
   "metadata": {},
   "outputs": [],
   "source": [
    "# My Solution\n",
    "\n",
    "def count_change(money, coins):\n",
    "    \n",
    "    if (money<0 or len(coins)==0):\n",
    "        return 0\n",
    "    if money==0:\n",
    "        return 1\n",
    "    return count_change(money - coins[0], coins) + count_change(money, coins[1:])"
   ]
  },
  {
   "cell_type": "code",
   "execution_count": null,
   "id": "ba1dc762",
   "metadata": {},
   "outputs": [],
   "source": [
    "# Highest Ranked Solution\n",
    "\n",
    "def count_change(money, coins):\n",
    "    if money<0:\n",
    "        return 0\n",
    "    if money == 0:\n",
    "        return 1\n",
    "    if money>0 and not coins:\n",
    "        return 0\n",
    "    return count_change(money-coins[-1],coins) + count_change(money,coins[:-1])"
   ]
  },
  {
   "cell_type": "markdown",
   "id": "3db4421f",
   "metadata": {},
   "source": [
    "# Kata - Sum of Positive\n",
    "\n",
    "You get an array of numbers, return the sum of all of the positives ones.\n",
    "\n",
    "Example \n",
    "```[1,-4,7,12] => 1 + 7 + 12 = 20```\n",
    "\n",
    "Note: if there is nothing to sum, the sum is default to 0."
   ]
  },
  {
   "cell_type": "code",
   "execution_count": 68,
   "id": "dc85ab9f",
   "metadata": {},
   "outputs": [
    {
     "data": {
      "text/plain": [
       "0"
      ]
     },
     "execution_count": 68,
     "metadata": {},
     "output_type": "execute_result"
    }
   ],
   "source": [
    "# My Solution\n",
    "\n",
    "def positive_sum(arr):\n",
    "    return sum(n if n>0 else 0 for n in arr)"
   ]
  },
  {
   "cell_type": "code",
   "execution_count": null,
   "id": "6be3bc3e",
   "metadata": {},
   "outputs": [],
   "source": [
    "# Highest Ranked Solution\n",
    "\n",
    "def positive_sum(arr):\n",
    "    return sum(x for x in arr if x > 0)"
   ]
  },
  {
   "cell_type": "markdown",
   "id": "51d20f44",
   "metadata": {},
   "source": [
    "# Kata - Build a Pile of Cubes\n",
    "\n",
    "https://www.codewars.com/kata/5592e3bd57b64d00f3000047/python\n",
    "\n",
    "Your task is to construct a building which will be a pile of n cubes. The cube at the bottom will have a volume of n^3, the cube above will have volume of (n-1)^3 and so on until the top which will have a volume of 1^3.\n",
    "\n",
    "You are given the total volume m of the building. Being given m can you find the number n of cubes you will have to build?\n",
    "\n",
    "The parameter of the function findNb (find_nb, find-nb, findNb, ...) will be an integer m and you have to return the integer n such as n^3 + (n-1)^3 + ... + 1^3 = m if such a n exists or -1 if there is no such n.\n",
    "\n",
    "Examples:\n",
    "```\n",
    "findNb(1071225) --> 45\n",
    "\n",
    "findNb(91716553919377) --> -1\n",
    "```"
   ]
  },
  {
   "cell_type": "code",
   "execution_count": 64,
   "id": "5889a5cb",
   "metadata": {},
   "outputs": [],
   "source": [
    "# My Solution\n",
    "\n",
    "def find_nb(m):\n",
    "\n",
    "    # optimize by starting n at the fourth-root of m\n",
    "    n = round(m**(1/4))\n",
    "    # find the starting vol for n using comprehension\n",
    "    vol = sum((n-i)**3 for i in range(n))\n",
    "\n",
    "    # keep adding to the previous vol amount until we pass m\n",
    "    while vol < m:\n",
    "        n+=1\n",
    "        vol+=n**3\n",
    "        \n",
    "    return n if m == vol else -1"
   ]
  },
  {
   "cell_type": "code",
   "execution_count": null,
   "id": "c1d46635",
   "metadata": {},
   "outputs": [],
   "source": [
    "# Highest Ranked Solution\n",
    "\n",
    "def find_nb(m):\n",
    "    n = 1\n",
    "    volume = 0\n",
    "    while volume < m:\n",
    "        volume += n**3\n",
    "        if volume == m:\n",
    "            return n\n",
    "        n += 1\n",
    "    return -1"
   ]
  },
  {
   "cell_type": "markdown",
   "id": "3bda5def",
   "metadata": {},
   "source": [
    "# Kata - Exes and Ohs\n",
    "\n",
    "Check to see if a string has the same amount of 'x's and 'o's. The method must return a boolean and be case insensitive. The string can contain any char.\n",
    "\n",
    "Examples input/output:\n",
    "```\n",
    "XO(\"ooxx\") => true\n",
    "XO(\"xooxx\") => false\n",
    "XO(\"ooxXm\") => true\n",
    "XO(\"zpzpzpp\") => true // when no 'x' and 'o' is present should return true\n",
    "XO(\"zzoo\") => false\n",
    "```"
   ]
  },
  {
   "cell_type": "code",
   "execution_count": 34,
   "id": "51533f09",
   "metadata": {},
   "outputs": [],
   "source": [
    "# My Solution\n",
    "\n",
    "def xo(s):    \n",
    "    return s.lower().count(\"o\") == s.lower().count(\"x\")\n"
   ]
  },
  {
   "cell_type": "code",
   "execution_count": null,
   "id": "9e6d36a7",
   "metadata": {},
   "outputs": [],
   "source": [
    "# Highest Ranked Solution\n",
    "\n",
    "def xo(s):\n",
    "    s = s.lower()\n",
    "    return s.count('x') == s.count('o')"
   ]
  },
  {
   "cell_type": "markdown",
   "id": "9aba82e1",
   "metadata": {},
   "source": [
    "# Kata - Reverse Words\n",
    "\n",
    "Complete the function that accepts a string parameter, and reverses each word in the string. All spaces in the string should be retained.\n",
    "\n",
    "Examples\n",
    "```\n",
    "\"This is an example!\" ==> \"sihT si na !elpmaxe\"\n",
    "\"double  spaces\"      ==> \"elbuod  secaps\"\n",
    "```"
   ]
  },
  {
   "cell_type": "code",
   "execution_count": 26,
   "id": "53761012",
   "metadata": {},
   "outputs": [],
   "source": [
    "# My Solution\n",
    "\n",
    "def reverse_words(text):\n",
    "    return ' '.join([word[::-1] for word in text.split(' ')])"
   ]
  },
  {
   "cell_type": "code",
   "execution_count": null,
   "id": "528cba7e",
   "metadata": {},
   "outputs": [],
   "source": [
    "# Highest Ranked Solution\n",
    "\n",
    "def reverse_words(str):\n",
    "    return ' '.join(s[::-1] for s in str.split(' '))"
   ]
  },
  {
   "cell_type": "markdown",
   "id": "8db7289c",
   "metadata": {},
   "source": [
    "# Kata - Opposite Number\n",
    "\n",
    "Very simple, given an integer or a floating-point number, find its opposite.\n",
    "\n",
    "Examples:\n",
    "```\n",
    "1: -1\n",
    "14: -14\n",
    "-34: 34\n",
    "```"
   ]
  },
  {
   "cell_type": "code",
   "execution_count": 18,
   "id": "552dbbdf",
   "metadata": {},
   "outputs": [],
   "source": [
    "# My Solution\n",
    "\n",
    "def opposite(number):\n",
    "    return number*(-1)"
   ]
  },
  {
   "cell_type": "code",
   "execution_count": 17,
   "id": "5d6ebb68",
   "metadata": {},
   "outputs": [],
   "source": [
    "# Highest Ranked Solution\n",
    "\n",
    "def opposite(number):\n",
    "    return -number"
   ]
  },
  {
   "cell_type": "markdown",
   "id": "d228dc4d",
   "metadata": {},
   "source": [
    "# Kata - Vowel Count\n",
    "\n",
    "Return the number (count) of vowels in the given string.\n",
    "\n",
    "We will consider a, e, i, o, u as vowels for this Kata (but not y).\n",
    "\n",
    "The input string will only consist of lower case letters and/or spaces."
   ]
  },
  {
   "cell_type": "code",
   "execution_count": 12,
   "id": "7656c45f",
   "metadata": {},
   "outputs": [],
   "source": [
    "# My Solution\n",
    "\n",
    "def get_count(sentence):\n",
    "    \n",
    "    return len(\"\".join([c if c in \"aeiou\" else \"\" for c in sentence]))"
   ]
  },
  {
   "cell_type": "code",
   "execution_count": null,
   "id": "9bef1a67",
   "metadata": {},
   "outputs": [],
   "source": [
    "# Highest Ranked Solution\n",
    "\n",
    "def getCount(inputStr):\n",
    "    return sum(1 for let in inputStr if let in \"aeiouAEIOU\")"
   ]
  },
  {
   "cell_type": "code",
   "execution_count": 13,
   "id": "14fa0902",
   "metadata": {},
   "outputs": [],
   "source": [
    "# Second Highest\n",
    "\n",
    "def getCount(s):\n",
    "    return sum(c in 'aeiou' for c in s)\n",
    "\n",
    "# Starting with the inner comprehension: (c in 'aeiou' for c in s)\n",
    "\n",
    "# This iterates through each character c in the input string s, \n",
    "# checking if c is one of the characters in 'aeiou'. \n",
    "# The in operator (c in 'aeiou') returns a boolean (True/False).\n",
    "\n",
    "# A boolean can be treated by Python as an integer value: 1 for True, 0 for False.\n",
    "\n",
    "# The sum function will return the sum (all of the terms added together) \n",
    "# of the comprehension. Since, as explained above, the value is 1 when the \n",
    "# character is a vowel, and 0 when the character is not a vowel, this sum \n",
    "# will be equal to the total number of vowels in the input string."
   ]
  },
  {
   "cell_type": "markdown",
   "id": "89a282b6",
   "metadata": {},
   "source": [
    "# Kata - Duplicate Encoder\n",
    "\n",
    "The goal of this exercise is to convert a string to a new string where each character in the new string is \"(\" if that character appears only once in the original string, or \")\" if that character appears more than once in the original string. Ignore capitalization when determining if a character is a duplicate.\n",
    "\n",
    "Examples\n",
    "```\n",
    "\"din\"      =>  \"(((\"\n",
    "\"recede\"   =>  \"()()()\"\n",
    "\"Success\"  =>  \")())())\"\n",
    "\"(( @\"     =>  \"))((\" \n",
    "```\n"
   ]
  },
  {
   "cell_type": "code",
   "execution_count": 8,
   "id": "53189c6c",
   "metadata": {},
   "outputs": [],
   "source": [
    "# My Solution\n",
    "\n",
    "def duplicate_encode(word):\n",
    "    \n",
    "    coded = \"\"\n",
    "    \n",
    "    for char in word.lower():\n",
    "        if word.lower().count(char) > 1:\n",
    "            coded = coded+\")\"\n",
    "        else:\n",
    "            coded = coded+\"(\"\n",
    "            \n",
    "    return coded"
   ]
  },
  {
   "cell_type": "code",
   "execution_count": null,
   "id": "450c9eac",
   "metadata": {},
   "outputs": [],
   "source": [
    "# Highest Ranked Solution\n",
    "\n",
    "def duplicate_encode(word):\n",
    "    return \"\".join([\"(\" if word.lower().count(c) == 1 else \")\" for c in word.lower()])\n",
    "\n",
    "# They used a list comprehension and then converted to a string using .join()"
   ]
  },
  {
   "cell_type": "markdown",
   "id": "adf1cfa5",
   "metadata": {},
   "source": [
    "# Kata - Who Likes It?\n",
    "\n",
    "You probably know the \"like\" system from Facebook and other pages. People can \"like\" blog posts, pictures or other items. We want to create the text that should be displayed next to such an item.\n",
    "\n",
    "Implement the function which takes an array containing the names of people that like an item. It must return the display text as shown in the examples:\n",
    "```\n",
    "[]                                -->  \"no one likes this\"\n",
    "[\"Peter\"]                         -->  \"Peter likes this\"\n",
    "[\"Jacob\", \"Alex\"]                 -->  \"Jacob and Alex like this\"\n",
    "[\"Max\", \"John\", \"Mark\"]           -->  \"Max, John and Mark like this\"\n",
    "[\"Alex\", \"Jacob\", \"Mark\", \"Max\"]  -->  \"Alex, Jacob and 2 others like this\"\n",
    "```\n",
    "Note: For 4 or more names, the number in \"and 2 others\" simply increases."
   ]
  },
  {
   "cell_type": "code",
   "execution_count": 8,
   "id": "9770f7e8",
   "metadata": {},
   "outputs": [],
   "source": [
    "# My Solution\n",
    "\n",
    "def likes(names):\n",
    "    \n",
    "    if names:\n",
    "        if len(names)>3:\n",
    "            return names[0] + \", \" + names[1] + \" and \" + str(len(names)-2) + \" others like this\"\n",
    "            \n",
    "        elif len(names)==3:\n",
    "            return names[0] + \", \" + names[1] + \" and \" + names[2] + \" like this\"\n",
    "            \n",
    "        elif len(names)==2:\n",
    "            return names[0] + \" and \" + names[1] + \" like this\"\n",
    "            \n",
    "        else:\n",
    "            return str(names[0]) + \" likes this\"\n",
    "    else:\n",
    "        return \"no one likes this\""
   ]
  },
  {
   "cell_type": "code",
   "execution_count": null,
   "id": "2234420e",
   "metadata": {},
   "outputs": [],
   "source": [
    "# Highest Ranked Solution\n",
    "\n",
    "def likes(names):\n",
    "    n = len(names)\n",
    "    return {\n",
    "        0: 'no one likes this',\n",
    "        1: '{} likes this', \n",
    "        2: '{} and {} like this', \n",
    "        3: '{}, {} and {} like this', \n",
    "        4: '{}, {} and {others} others like this'\n",
    "    }[min(4, n)].format(*names[:3], others=n-2)"
   ]
  },
  {
   "cell_type": "code",
   "execution_count": null,
   "id": "394d4a3f",
   "metadata": {},
   "outputs": [],
   "source": [
    "# Other solutions:\n",
    "\n",
    "def likes(names):\n",
    "    # make a dictionary d of all the possible answers. Keys are the respective number\n",
    "    # of people who liked it.\n",
    "    \n",
    "    # {} indicate placeholders. They do not need any numbers but are simply replaced/formatted\n",
    "    # in the order the arguments in names are given to format\n",
    "    # {others} can be replaced by its name; below the argument \"others = length - 2\"\n",
    "    # is passed to str.format()\n",
    "    d = {\n",
    "        0: \"no one likes this\",\n",
    "        1: \"{} likes this\",\n",
    "        2: \"{} and {} like this\",\n",
    "        3: \"{}, {} and {} like this\",\n",
    "        4: \"{}, {} and {others} others like this\"\n",
    "        }\n",
    "    length = len(names)\n",
    "    # d[min(4, length)] insures that the appropriate string is called from the dictionary\n",
    "    # and subsequently returned. Min is necessary as len(names) may be > 4\n",
    "    \n",
    "    # The * in *names ensures that the list names is blown up and that format is called\n",
    "    # as if each item in names was passed to format individually, i. e.\n",
    "    # format(names[0], names[1], .... , names[n], others = length - 2\n",
    "    return d[min(4, length)].format(*names, others = length - 2)\n",
    "    \n",
    "    \n",
    "\n",
    "    \n",
    "    \n",
    "def likes(names):\n",
    "    if len(names) == 0:\n",
    "        return \"no one likes this\"\n",
    "    elif len(names) == 1:\n",
    "        return \"%s likes this\" % names[0]\n",
    "    elif len(names) == 2:\n",
    "        return \"%s and %s like this\" % (names[0], names[1])\n",
    "    elif len(names) == 3:\n",
    "        return \"%s, %s and %s like this\" % (names[0], names[1], names[2])\n",
    "    else:\n",
    "        return \"%s, %s and %s others like this\" % (names[0], names[1], len(names)-2)"
   ]
  },
  {
   "cell_type": "markdown",
   "id": "b65461ba",
   "metadata": {},
   "source": [
    "# Kata\n",
    "\n",
    "Complete the square sum function so that it squares each number passed into it and then sums the results together.\n",
    "\n",
    "For example, for [1, 2, 2] it should return 9 because 1^2 + 2^2 + 2^2 = 9."
   ]
  },
  {
   "cell_type": "code",
   "execution_count": null,
   "id": "122a3587",
   "metadata": {},
   "outputs": [],
   "source": [
    "# My Solution\n",
    "\n",
    "def square_sum(numbers):\n",
    "    \n",
    "    sum = 0             #setup empty integer\n",
    "    \n",
    "    for i in numbers:   #loop through each number in list\n",
    "        sum += i*i      #square each element and add to cumulative sum\n",
    "        \n",
    "    return sum          #return sum"
   ]
  },
  {
   "cell_type": "code",
   "execution_count": null,
   "id": "dcf0eae2",
   "metadata": {},
   "outputs": [],
   "source": [
    "# Highest Ranked Solution\n",
    "\n",
    "def square_sum(numbers):\n",
    "    return sum(x ** 2 for x in numbers)"
   ]
  },
  {
   "cell_type": "markdown",
   "id": "9d932872",
   "metadata": {},
   "source": [
    "# Kata \n",
    "You need to write regex that will validate a password to make sure it meets the following criteria:\n",
    "\n",
    "- At least six characters long\n",
    "- contains a lowercase letter\n",
    "- contains an uppercase letter\n",
    "- contains a number\n",
    "- Valid passwords will only be alphanumeric characters."
   ]
  },
  {
   "cell_type": "code",
   "execution_count": 18,
   "id": "2f9d52aa",
   "metadata": {},
   "outputs": [],
   "source": [
    "# My Solution\n",
    "\n",
    "regex=\"^(?=.*[a-z])(?=.*[A-Z])(?=.*[0-9])[a-zA-Z0-9]{6,}$\""
   ]
  },
  {
   "cell_type": "code",
   "execution_count": null,
   "id": "05fb1508",
   "metadata": {},
   "outputs": [],
   "source": [
    "# Highest Ranked Solution\n",
    "\n",
    "regex = (\n",
    "    '^'            # start line\n",
    "    '(?=.*\\d)'     # must contain one digit from 0-9\n",
    "    '(?=.*[a-z])'  # must contain one lowercase characters\n",
    "    '(?=.*[A-Z])'  # must contain one uppercase characters\n",
    "    '[a-zA-Z\\d]'   # permitted characters (alphanumeric only)\n",
    "    '{6,}'         # length at least 6 chars\n",
    "    '$'            # end line\n",
    ")"
   ]
  },
  {
   "cell_type": "markdown",
   "id": "8855fbb8",
   "metadata": {},
   "source": [
    "# Kata\n",
    "Write a function that takes in a numeric code of any length. The function should check if the code begins with 1, 2, or 3 and return true if so. Return false otherwise.\n",
    "\n",
    "You can assume the input will always be a number."
   ]
  },
  {
   "cell_type": "code",
   "execution_count": null,
   "id": "e1e69511",
   "metadata": {},
   "outputs": [],
   "source": [
    "# My Solution\n",
    "\n",
    "def validate_code(code):    \n",
    "    return str(code).startswith(('1','2','3'))"
   ]
  },
  {
   "cell_type": "code",
   "execution_count": null,
   "id": "82c41cbb",
   "metadata": {},
   "outputs": [],
   "source": [
    "# OTHER SOLUTIONS\n",
    "\n",
    "def validate_code(code):\n",
    "    return str(code)[0] in '123'"
   ]
  },
  {
   "cell_type": "code",
   "execution_count": null,
   "id": "a0dfc400",
   "metadata": {},
   "outputs": [],
   "source": [
    "def validate_code(code):\n",
    "    import re\n",
    "    return bool(re.match('[123]',str(code)))\n",
    "\n",
    "# re.match() looks at the beginning of the string\n",
    "# re.search() looks anywhere in the string"
   ]
  },
  {
   "cell_type": "code",
   "execution_count": null,
   "id": "0cefad57",
   "metadata": {},
   "outputs": [],
   "source": [
    "import re\n",
    "\n",
    "def validate_code(code):\n",
    "    return bool(re.match(r'^[123]\\d*$', str(code)))"
   ]
  },
  {
   "cell_type": "code",
   "execution_count": null,
   "id": "b50877a6",
   "metadata": {},
   "outputs": [],
   "source": [
    "import re\n",
    "def validate_code(code): return bool(re.match('^[1-3]', str(code)))"
   ]
  },
  {
   "cell_type": "code",
   "execution_count": null,
   "id": "24677918",
   "metadata": {},
   "outputs": [],
   "source": [
    "def validate_code(code):\n",
    "    return int(str(code)[0]) < 4"
   ]
  },
  {
   "cell_type": "code",
   "execution_count": null,
   "id": "9a58577a",
   "metadata": {},
   "outputs": [],
   "source": [
    "validate_code = lambda c: str(c)[0] in \"123\""
   ]
  },
  {
   "cell_type": "markdown",
   "id": "f76af65d",
   "metadata": {},
   "source": [
    "# Kata\n",
    "\n",
    "ATM machines allow 4 or 6 digit PIN codes and PIN codes cannot contain anything but exactly 4 digits or exactly 6 digits.\n",
    "\n",
    "If the function is passed a valid PIN string, return true, else return false."
   ]
  },
  {
   "cell_type": "code",
   "execution_count": 17,
   "id": "75b055b6",
   "metadata": {},
   "outputs": [],
   "source": [
    "# My First Solution\n",
    "\n",
    "def validate_pin(pin):  \n",
    "    \n",
    "    return pin.isnumeric() if len(pin) == 4 or len(pin) == 6 else False"
   ]
  },
  {
   "cell_type": "code",
   "execution_count": null,
   "id": "c513ba9e",
   "metadata": {},
   "outputs": [],
   "source": [
    "# Highest Ranked Solution\n",
    "\n",
    "validate_pin = lambda pin: len(pin) in (4, 6) and pin.isdigit()"
   ]
  },
  {
   "cell_type": "code",
   "execution_count": null,
   "id": "29ab1614",
   "metadata": {},
   "outputs": [],
   "source": [
    "# My Second Solution\n",
    "\n",
    "def validate_pin(pin):\n",
    "    return pin.isdecimal() and len(pin) in (4,6)"
   ]
  },
  {
   "cell_type": "markdown",
   "id": "cff73f09",
   "metadata": {},
   "source": [
    "# Kata \n",
    "Your task is to write a regular expression (regex) that will match a string only if it contains at least one valid date, in the format [mm-dd] (that is, a two-digit month, followed by a dash, followed by a two-digit date, surrounded by square brackets).\n",
    "\n",
    "You should assume the year in question is not a leap year. Therefore, the number of days each month should have are as follows:\n",
    "\n",
    "1. January - 31 days\n",
    "2. February - 28 days (leap years are ignored)\n",
    "3. March - 31 days\n",
    "4. April - 30 days\n",
    "5. May - 31 days\n",
    "6. June - 30 days\n",
    "7. July - 31 days\n",
    "8. August - 31 days\n",
    "9. September - 30 days\n",
    "10. October - 31 days\n",
    "11. November - 30 days\n",
    "12. December - 31 days\n",
    "All text outside a valid date can be ignored, including other invalid dates.\n",
    "\n",
    "For example:\n",
    "```\n",
    "\"[01-23]\" // January 23rd is a valid date\n",
    "\"[02-31]\" // February 31st is an invalid date\n",
    "\"[02-16]\" // valid\n",
    "\"[ 6-03]\" // invalid format\n",
    "\"ignored [08-11] ignored\" // valid\n",
    "\"[3] [12-04] [09-tenth]\" // December 4th is a valid date\n",
    "```"
   ]
  },
  {
   "cell_type": "code",
   "execution_count": null,
   "id": "2ce09ea0",
   "metadata": {},
   "outputs": [],
   "source": []
  },
  {
   "cell_type": "code",
   "execution_count": null,
   "id": "b0f093ca",
   "metadata": {},
   "outputs": [],
   "source": []
  },
  {
   "cell_type": "markdown",
   "id": "319c6c75",
   "metadata": {},
   "source": [
    "# Kata \n",
    "\n",
    "Write a program that will calculate the number of trailing zeros in a factorial of a given number.\n",
    "\n",
    "N! = 1 * 2 * 3 * ... * N\n",
    "\n",
    "Be careful 1000! has 2568 digits...\n",
    "\n",
    "For more info, see: http://mathworld.wolfram.com/Factorial.html\n",
    "\n",
    "Examples\n",
    "```\n",
    "zeros(6) = 1\n",
    "# 6! = 1 * 2 * 3 * 4 * 5 * 6 = 720 --> 1 trailing zero\n",
    "\n",
    "zeros(12) = 2\n",
    "# 12! = 479001600 --> 2 trailing zeros\n",
    "```\n",
    "Hint: You're not meant to calculate the factorial. Find another way to find the number of zeros."
   ]
  },
  {
   "cell_type": "code",
   "execution_count": 108,
   "id": "3c35c7eb",
   "metadata": {},
   "outputs": [
    {
     "name": "stdout",
     "output_type": "stream",
     "text": [
      "31\n"
     ]
    }
   ],
   "source": [
    "# My Solution\n",
    "\n",
    "def zeros(n):\n",
    "    count=0\n",
    "    while n>=5:\n",
    "        n = n//5\n",
    "        count=count+n\n",
    "    return count    "
   ]
  },
  {
   "cell_type": "code",
   "execution_count": 111,
   "id": "676f1947",
   "metadata": {},
   "outputs": [],
   "source": [
    "# Highest Ranked Solution\n",
    "\n",
    "def zeros(n):\n",
    "    x = n//5\n",
    "    return x+zeros(x) if x else 0"
   ]
  },
  {
   "cell_type": "markdown",
   "id": "e78aa0b7",
   "metadata": {},
   "source": [
    "# Kata \n",
    "\n",
    "Complete the function/method (depending on the language) to return true/True when its argument is an array that has the same nesting structures and same corresponding length of nested arrays as the first array.\n",
    "\n",
    "For example:\n",
    "\n",
    "```\n",
    "# should return True\n",
    "same_structure_as([ 1, 1, 1 ], [ 2, 2, 2 ] )\n",
    "same_structure_as([ 1, [ 1, 1 ] ], [ 2, [ 2, 2 ] ] )\n",
    "\n",
    "# should return False \n",
    "same_structure_as([ 1, [ 1, 1 ] ], [ [ 2, 2 ], 2 ] )\n",
    "same_structure_as([ 1, [ 1, 1 ] ], [ [ 2 ], 2 ] )\n",
    "\n",
    "# should return True\n",
    "same_structure_as([ [ [ ], [ ] ] ], [ [ [ ], [ ] ] ] )\n",
    "\n",
    "# should return False\n",
    "same_structure_as([ [ [ ], [ ] ] ], [ [ 1, 1 ] ] )\n",
    "```"
   ]
  },
  {
   "cell_type": "code",
   "execution_count": 3,
   "id": "378c86ad",
   "metadata": {},
   "outputs": [
    {
     "name": "stdout",
     "output_type": "stream",
     "text": [
      "2 2\n",
      "True\n",
      "1 1\n",
      "True\n"
     ]
    }
   ],
   "source": [
    "def same_structure_as(original,other):\n",
    "\n",
    "    print(len(original),len(other))\n",
    "    \n",
    "    for i in range(len(original)):\n",
    "        if len(original[i]>1):\n",
    "            \n",
    "            for j in range(len(original[i]))\n",
    "    \n",
    "    return False\n",
    "    \n",
    "    \n",
    "print(same_structure_as([ 1, [ 1, 1 ] ], [ 2, [ 2, 2 ] ] ))\n",
    "print(same_structure_as([ [ [ ], [ ] ] ], [ [ 1, 1 ] ] ))"
   ]
  },
  {
   "cell_type": "code",
   "execution_count": null,
   "id": "469c1ad8",
   "metadata": {},
   "outputs": [],
   "source": []
  },
  {
   "cell_type": "markdown",
   "id": "cc71f91f",
   "metadata": {},
   "source": [
    "# Kata - https://www.codewars.com/kata/52c4dd683bfd3b434c000292/train/python\n",
    "\n",
    "\"7777...8?!??!\", exclaimed Bob, \"I missed it again! Argh!\" Every time there's an interesting number coming up, he notices and then promptly forgets. Who doesn't like catching those one-off interesting mileage numbers?\n",
    "\n",
    "Let's make it so Bob never misses another interesting number. We've hacked into his car's computer, and we have a box hooked up that reads mileage numbers. We've got a box glued to his dash that lights up yellow or green depending on whether it receives a 1 or a 2 (respectively).\n",
    "\n",
    "It's up to you, intrepid warrior, to glue the parts together. Write the function that parses the mileage number input, and returns a 2 if the number is \"interesting\" (see below), a 1 if an interesting number occurs within the next two miles, or a 0 if the number is not interesting.\n",
    "\n",
    "Note: In Haskell, we use No, Almost and Yes instead of 0, 1 and 2.\n",
    "\n",
    "### \"Interesting\" Numbers\n",
    "Interesting numbers are 3-or-more digit numbers that meet one or more of the following criteria:\n",
    "\n",
    "```\n",
    "Any digit followed by all zeros: 100, 90000\n",
    "Every digit is the same number: 1111\n",
    "The digits are sequential, incementing†: 1234\n",
    "The digits are sequential, decrementing‡: 4321\n",
    "The digits are a palindrome: 1221 or 73837\n",
    "The digits match one of the values in the awesome_phrases array\n",
    "† For incrementing sequences, 0 should come after 9, and not before 1, as in 7890.\n",
    "‡ For decrementing sequences, 0 should come after 1, and not before 9, as in 3210.\n",
    "```\n",
    "So, you should expect these inputs and outputs:\n",
    "\n",
    "```\n",
    "# \"boring\" numbers\n",
    "is_interesting(3, [1337, 256])    # 0\n",
    "is_interesting(3236, [1337, 256]) # 0\n",
    "\n",
    "# progress as we near an \"interesting\" number\n",
    "is_interesting(11207, []) # 0\n",
    "is_interesting(11208, []) # 0\n",
    "is_interesting(11209, []) # 1\n",
    "is_interesting(11210, []) # 1\n",
    "is_interesting(11211, []) # 2\n",
    "\n",
    "# nearing a provided \"awesome phrase\"\n",
    "is_interesting(1335, [1337, 256]) # 1\n",
    "is_interesting(1336, [1337, 256]) # 1\n",
    "is_interesting(1337, [1337, 256]) # 2\n",
    "```\n",
    "\n",
    "### Error Checking\n",
    "A number is only interesting if it is greater than 99!\n",
    "Input will always be an integer greater than 0, and less than 1,000,000,000.\n",
    "The awesomePhrases array will always be provided, and will always be an array, but may be empty. (Not everyone thinks numbers spell funny words...)\n",
    "You should only ever output 0, 1, or 2."
   ]
  },
  {
   "cell_type": "code",
   "execution_count": 78,
   "id": "8d5a0a18",
   "metadata": {},
   "outputs": [
    {
     "name": "stdout",
     "output_type": "stream",
     "text": [
      "1\n"
     ]
    }
   ],
   "source": [
    "def is_interesting(number, awesome_phrases):\n",
    "    \n",
    "    lvl_of_interest = 0    \n",
    "    \n",
    "    if number>99:\n",
    "    \n",
    "        numbers = [number,number+1,number+2]\n",
    "\n",
    "\n",
    "        for i,v in enumerate(numbers):\n",
    "            numbers[i] = list(map(int,str(v)))\n",
    "\n",
    "            \n",
    "        #The digits match one of the values in the awesome_phrases array            \n",
    "        if str(number) in awesome_phrases:\n",
    "            lvl_of_interest = 2\n",
    "            \n",
    "        elif str(number+1) in awesome_phrases or str(number+2) in awesome_phrases:\n",
    "            lvl_of_interest = 1     \n",
    "        \n",
    "        \n",
    "        \n",
    "        # Any digit followed by all zeros\n",
    "        elif set(numbers[0][1:])=={0}:\n",
    "            lvl_of_interest = 2\n",
    "        elif set(numbers[1][1:])=={0} or set(numbers[2][1:])=={0}:\n",
    "            lvl_of_interest = 1\n",
    "\n",
    "            \n",
    "        \n",
    "\n",
    "        # Every digit is the same number\n",
    "        elif len(set(numbers[0]))==1:\n",
    "            lvl_of_interest = 2\n",
    "        elif len(set(numbers[1]))==1 or len(set(numbers[2]))==1:\n",
    "            lvl_of_interest = 1\n",
    "\n",
    "\n",
    "\n",
    "        # Check if in ascending order\n",
    "        elif str(number) in '1234567890':     \n",
    "            lvl_of_interest = 2\n",
    "        elif str(number+1) in '1234567890' or str(number+2) in '1234567890':\n",
    "            lvl_of_interest = 1\n",
    "\n",
    "\n",
    "\n",
    "        # Check if in descending order\n",
    "        elif str(number) in '9876543210`':     \n",
    "            lvl_of_interest = 2\n",
    "        elif str(number+1) in '9876543210' or str(number+2) in '9876543210':\n",
    "            lvl_of_interest =1\n",
    "\n",
    "\n",
    " \n",
    "\n",
    "        else:\n",
    "            # The digits are a palindrome\n",
    "            first = 0\n",
    "            last = len(numbers[0])-1\n",
    "\n",
    "            while (first<last):\n",
    "                if numbers[0][first]==numbers[0][last]:\n",
    "                    first += 1\n",
    "                    last -= 1\n",
    "                    lvl_of_interest = 2\n",
    "                else:\n",
    "                    break\n",
    "\n",
    "            first = 0\n",
    "            last = len(numbers[1])-1\n",
    "\n",
    "            while (first<last):\n",
    "                if numbers[1][first]==numbers[1][last]:\n",
    "                    first += 1\n",
    "                    last -= 1\n",
    "                    lvl_of_interest = 1\n",
    "                else:\n",
    "                    break       \n",
    "\n",
    "            first = 0\n",
    "            last = len(numbers[2])-1\n",
    "\n",
    "            while (first<last):\n",
    "                if numbers[2][first]==numbers[2][last]:\n",
    "                    first += 1\n",
    "                    last -= 1\n",
    "                    lvl_of_interest = 1\n",
    "                else:\n",
    "                    break   \n",
    "\n",
    "\n",
    "\n",
    "\n",
    "    \n",
    "    return lvl_of_interest\n",
    "    \n",
    "print(is_interesting(9999999,['1337','256']))"
   ]
  },
  {
   "cell_type": "code",
   "execution_count": null,
   "id": "1ea70e92",
   "metadata": {},
   "outputs": [],
   "source": []
  },
  {
   "cell_type": "markdown",
   "id": "3f0593b0",
   "metadata": {},
   "source": [
    "# Kata - Extract Domain from URL\n",
    "Write a function that when given a URL as a string, parses out just the domain name and returns it as a string. For example:\n",
    "```\n",
    "domain_name(\"http://github.com/carbonfive/raygun\") == \"github\" \n",
    "domain_name(\"http://www.zombie-bites.com\") == \"zombie-bites\"\n",
    "domain_name(\"https://www.cnet.com\") == \"cnet\"\n",
    "```"
   ]
  },
  {
   "cell_type": "code",
   "execution_count": 51,
   "id": "3d3f5a95",
   "metadata": {},
   "outputs": [],
   "source": [
    "# My Solution\n",
    "\n",
    "def domain_name(url):    \n",
    "    return url.replace('http://', '').replace('https://', '').replace('www.', '').split('.')[0]"
   ]
  },
  {
   "cell_type": "code",
   "execution_count": null,
   "id": "a7a2951d",
   "metadata": {},
   "outputs": [],
   "source": [
    "# Highest Ranked Solution\n",
    "\n",
    "def domain_name(url):\n",
    "    return url.split(\"//\")[-1].split(\"www.\")[-1].split(\".\")[0]"
   ]
  },
  {
   "cell_type": "markdown",
   "id": "01ac1fe2",
   "metadata": {},
   "source": [
    "# Kata - Encrypt this!\n",
    "\n",
    "You want to create secret messages which can be deciphered by the Decipher this! kata. Here are the conditions:\n",
    "\n",
    "Your message is a string containing space separated words.\n",
    "You need to encrypt each word in the message using the following rules:\n",
    "The first letter must be converted to its ASCII code.\n",
    "The second letter must be switched with the last letter\n",
    "Keepin' it simple: There are no special characters in the input.\n",
    "Examples:\n",
    "```\n",
    "encrypt_this(\"Hello\") == \"72olle\"\n",
    "encrypt_this(\"good\") == \"103doo\"\n",
    "encrypt_this(\"hello world\") == \"104olle 119drlo\"\n",
    "```"
   ]
  },
  {
   "cell_type": "code",
   "execution_count": 23,
   "id": "0c28718c",
   "metadata": {},
   "outputs": [],
   "source": [
    "# My Solution\n",
    "\n",
    "def encrypt_this(text):\n",
    "    \n",
    "    newtext = []\n",
    "    \n",
    "    for w in text.split():\n",
    "        if len(w)>2:\n",
    "            newtext.append(str(ord(w[0]))+w[-1]+w[2:-1]+w[1])\n",
    "        elif len(w)==2:\n",
    "            newtext.append(str(ord(w[0]))+w[1])\n",
    "        else:\n",
    "            newtext.append(str(ord(w[0])))\n",
    "        \n",
    "    return ' '.join(newtext)"
   ]
  },
  {
   "cell_type": "code",
   "execution_count": null,
   "id": "ed5e2c23",
   "metadata": {},
   "outputs": [],
   "source": [
    "# Highest Ranked Solution\n",
    "\n",
    "def encrypt_this(text):\n",
    "    result = []\n",
    "    \n",
    "    for word in text.split():\n",
    "        # turn word into a list\n",
    "        word = list(word)\n",
    "        \n",
    "        # replace first letter with ascii code\n",
    "        word[0] = str(ord(word[0]))\n",
    "        \n",
    "        # switch 2nd and last letters\n",
    "        if len(word) > 2:\n",
    "            word[1], word[-1] = word[-1], word[1]\n",
    "        \n",
    "        # add to results\n",
    "        result.append(''.join(word))\n",
    "    \n",
    "    return ' '.join(result)"
   ]
  },
  {
   "cell_type": "markdown",
   "id": "129791cd",
   "metadata": {},
   "source": [
    "# Kata - Pangram\n",
    "\n",
    "A pangram is a sentence that contains every single letter of the alphabet at least once. For example, the sentence \"The quick brown fox jumps over the lazy dog\" is a pangram, because it uses the letters A-Z at least once (case is irrelevant).\n",
    "\n",
    "Given a string, detect whether or not it is a pangram. Return True if it is, False if not. Ignore numbers and punctuation."
   ]
  },
  {
   "cell_type": "code",
   "execution_count": 19,
   "id": "9dd73b9d",
   "metadata": {},
   "outputs": [],
   "source": [
    "# My Solution\n",
    "\n",
    "def is_pangram(s):\n",
    "\n",
    "    s = ''.join(x for x in s if x.isalpha())\n",
    "    s = s.lower()\n",
    "    return set(s) == set(\"abcdefghijklmnopqrstuvwxyz\")"
   ]
  },
  {
   "cell_type": "code",
   "execution_count": null,
   "id": "cb38073e",
   "metadata": {},
   "outputs": [],
   "source": [
    "# Highest Ranked Solution\n",
    "\n",
    "import string\n",
    "\n",
    "def is_pangram(s):\n",
    "    return set(string.lowercase) <= set(s.lower())"
   ]
  },
  {
   "cell_type": "markdown",
   "id": "e20a3dac",
   "metadata": {},
   "source": [
    "# Kata - find peaks in num arrays\n",
    "\n",
    "In this kata, you will write a function that returns the positions and the values of the \"peaks\" (or local maxima) of a numeric array.\n",
    "\n",
    "For example, the array arr = [0, 1, 2, 5, 1, 0] has a peak at position 3 with a value of 5 (since arr[3] equals 5).\n",
    "\n",
    "The output will be returned as an object with two properties: pos and peaks. Both of these properties should be arrays. If there is no peak in the given array, then the output should be {pos: [], peaks: []}.\n",
    "\n",
    "Example: pickPeaks([3, 2, 3, 6, 4, 1, 2, 3, 2, 1, 2, 3]) should return {pos: [3, 7], peaks: [6, 3]} (or equivalent in other languages)\n",
    "\n",
    "All input arrays will be valid integer arrays (although it could still be empty), so you won't need to validate the input.\n",
    "\n",
    "The first and last elements of the array will not be considered as peaks (in the context of a mathematical function, we don't know what is after and before and therefore, we don't know if it is a peak or not).\n",
    "\n",
    "Also, beware of plateaus !!! [1, 2, 2, 2, 1] has a peak while [1, 2, 2, 2, 3] and [1, 2, 2, 2, 2] do not. In case of a plateau-peak, please only return the position and value of the beginning of the plateau. For example: pickPeaks([1, 2, 2, 2, 1]) returns {pos: [1], peaks: [2]} (or equivalent in other languages)\n",
    "\n",
    "Have fun!"
   ]
  },
  {
   "cell_type": "code",
   "execution_count": null,
   "id": "fed081eb",
   "metadata": {},
   "outputs": [],
   "source": [
    "# My Solution\n",
    "\n",
    "def pick_peaks(arr):\n",
    "    pos = []\n",
    "    peaks = []\n",
    "    temppos = None\n",
    "    temppeak = None\n",
    "\n",
    "    if len(arr)>2:\n",
    "\n",
    "        for i,n in enumerate(arr):\n",
    "            if i==0: continue\n",
    "            if i==len(arr)-1: break\n",
    "\n",
    "            if n > arr[i-1] and n > arr[i+1]:\n",
    "                pos.append(i)\n",
    "                peaks.append(n)\n",
    "\n",
    "            if n > arr[i-1] and n == arr[i+1]:\n",
    "                temppos = i\n",
    "                temppeak = n\n",
    "\n",
    "            if n == arr[i-1] and n > arr[i+1]:\n",
    "                if temppos:\n",
    "                    pos.append(temppos)\n",
    "                    peaks.append(temppeak)\n",
    "                    temppos = None\n",
    "                    temppeak = None\n",
    "\n",
    "    return {'pos':pos,'peaks':peaks}"
   ]
  },
  {
   "cell_type": "code",
   "execution_count": 9,
   "id": "414a1302",
   "metadata": {},
   "outputs": [],
   "source": [
    "# Highest Ranked Solution\n",
    "\n",
    "def pick_peaks(arr):\n",
    "    pos = []\n",
    "    prob_peak = False\n",
    "    for i in range(1, len(arr)):\n",
    "        if arr[i] > arr[i-1]:\n",
    "            prob_peak = i\n",
    "        elif arr[i] < arr[i-1] and prob_peak:\n",
    "            pos.append(prob_peak)\n",
    "            prob_peak = False\n",
    "    return {'pos':pos, 'peaks':[arr[i] for i in pos]}"
   ]
  },
  {
   "cell_type": "markdown",
   "id": "be2ff486",
   "metadata": {},
   "source": [
    "# Kata\n",
    "Your goal is to return multiplication table for number that is always an integer from 1 to 10.\n",
    "\n",
    "For example, a multiplication table (string) for number == 5 looks like below:\n",
    "```\n",
    "1 * 5 = 5\n",
    "2 * 5 = 10\n",
    "3 * 5 = 15\n",
    "4 * 5 = 20\n",
    "5 * 5 = 25\n",
    "6 * 5 = 30\n",
    "7 * 5 = 35\n",
    "8 * 5 = 40\n",
    "9 * 5 = 45\n",
    "10 * 5 = 50\n",
    "```\n",
    "P. S. You can use \\n in string to jump to the next line.\n",
    "\n",
    "Note: newlines should be added between rows, but there should be no trailing newline at the end. If you're unsure about the format, look at the sample tests."
   ]
  },
  {
   "cell_type": "code",
   "execution_count": null,
   "id": "5b02bdfd",
   "metadata": {},
   "outputs": [],
   "source": [
    "# My Solution\n",
    "\n",
    "def multi_table(number):\n",
    "    table = ''\n",
    "    \n",
    "    for i in range(1,11):\n",
    "        table = table + str(i) + ' * ' + str(number) + ' = ' + str(i*number)\n",
    "        if i <10:\n",
    "            table += '\\n'\n",
    "    \n",
    "    return table"
   ]
  },
  {
   "cell_type": "code",
   "execution_count": null,
   "id": "14bc9728",
   "metadata": {},
   "outputs": [],
   "source": [
    "# Highest Ranked Solution\n",
    "\n",
    "def multi_table(number):\n",
    "    return '\\n'.join(f'{i} * {number} = {i * number}' for i in range(1, 11))"
   ]
  },
  {
   "cell_type": "markdown",
   "id": "fbe50286",
   "metadata": {},
   "source": [
    "## Kata \n",
    "\n",
    "Write a function named first_non_repeating_letter that takes a string input, and returns the first character that is not repeated anywhere in the string.\n",
    "\n",
    "For example, if given the input 'stress', the function should return 't', since the letter t only occurs once in the string, and occurs first in the string.\n",
    "\n",
    "As an added challenge, upper- and lowercase letters are considered the same character, but the function should return the correct case for the initial letter. For example, the input 'sTreSS' should return 'T'.\n",
    "\n",
    "If a string contains all repeating characters, it should return an empty string (\"\") or None -- see sample tests."
   ]
  },
  {
   "cell_type": "code",
   "execution_count": null,
   "id": "434ddfb0",
   "metadata": {},
   "outputs": [],
   "source": [
    "# My Solution\n",
    "\n",
    "def first_non_repeating_letter(string):\n",
    "    for i in string:\n",
    "        if string.lower().count(i.lower()) == 1:\n",
    "            return i\n",
    "    return ''"
   ]
  },
  {
   "cell_type": "code",
   "execution_count": null,
   "id": "55f40422",
   "metadata": {},
   "outputs": [],
   "source": [
    "# Highest Ranked Solution\n",
    "\n",
    "def first_non_repeating_letter(string):\n",
    "    singles = [i for i in string if string.lower().count(i.lower()) == 1]\n",
    "    return singles[0] if singles else ''"
   ]
  },
  {
   "cell_type": "markdown",
   "id": "b3ba779a",
   "metadata": {},
   "source": [
    "## Kata - How many cakes?\n",
    "\n",
    "Pete likes to bake some cakes. He has some recipes and ingredients. Unfortunately he is not good in maths. Can you help him to find out, how many cakes he could bake considering his recipes?\n",
    "\n",
    "Write a function cakes(), which takes the recipe (object) and the available ingredients (also an object) and returns the maximum number of cakes Pete can bake (integer). For simplicity there are no units for the amounts (e.g. 1 lb of flour or 200 g of sugar are simply 1 or 200). Ingredients that are not present in the objects, can be considered as 0.\n",
    "\n",
    "Examples:\n",
    "\n",
    "```py\n",
    "# must return 2\n",
    "cakes({flour: 500, sugar: 200, eggs: 1}, {flour: 1200, sugar: 1200, eggs: 5, milk: 200})\n",
    "# must return 0\n",
    "cakes({apples: 3, flour: 300, sugar: 150, milk: 100, oil: 100}, {sugar: 500, flour: 2000, milk: 2000})\n",
    "```"
   ]
  },
  {
   "cell_type": "code",
   "execution_count": null,
   "id": "715509f0",
   "metadata": {},
   "outputs": [],
   "source": [
    "# My Solution \n",
    "\n",
    "def cakes(recipe, available):\n",
    "    multiples = []\n",
    "    \n",
    "    for i, key in enumerate(recipe.keys()):\n",
    "        if key not in available.keys():\n",
    "            return 0  \n",
    "        multiples.append(available[key]//recipe[key])\n",
    "\n",
    "    return min(multiples)"
   ]
  },
  {
   "cell_type": "code",
   "execution_count": null,
   "id": "93743b40",
   "metadata": {},
   "outputs": [],
   "source": [
    "# Highest Ranked Solution\n",
    "\n",
    "def cakes(recipe, available):\n",
    "    return min(available.get(k, 0)/recipe[k] for k in recipe)\n",
    "    # .get() fetches a value from a dictonary based on a key and if none found then it gets set to 0 "
   ]
  },
  {
   "cell_type": "code",
   "execution_count": null,
   "id": "66ba5eae",
   "metadata": {},
   "outputs": [],
   "source": [
    "# Next Best\n",
    "\n",
    "def cakes(recipe, available):\n",
    "    try:\n",
    "        return min([available[a]/recipe[a] for a in recipe])\n",
    "    except:\n",
    "        return 0"
   ]
  },
  {
   "cell_type": "markdown",
   "id": "318d0035",
   "metadata": {},
   "source": [
    "## Kata - Traverse digits in a number and output boolean\n",
    "A Narcissistic Number is a positive number which is the sum of its own digits, each raised to the power of the number of digits in a given base. In this Kata, we will restrict ourselves to decimal (base 10).\n",
    "\n",
    "For example, take 153 (3 digits), which is narcisstic:\n",
    "\n",
    "    1^3 + 5^3 + 3^3 = 1 + 125 + 27 = 153\n",
    "\n",
    "and 1652 (4 digits), which isn't:\n",
    "\n",
    "    1^4 + 6^4 + 5^4 + 2^4 = 1 + 1296 + 625 + 16 = 1938\n",
    "\n",
    "#### The Challenge:\n",
    "Your code must return true or false (not 'true' and 'false') depending upon whether the given number is a Narcissistic number in base 10. This may be True and False in your language, e.g. PHP.\n",
    "\n",
    "Error checking for text strings or other invalid inputs is not required, only valid positive non-zero integers will be passed into the function."
   ]
  },
  {
   "cell_type": "code",
   "execution_count": null,
   "id": "92138bd6",
   "metadata": {},
   "outputs": [],
   "source": [
    "# My Solution\n",
    "\n",
    "def narcissistic( value ):\n",
    "    power = len(str(value))\n",
    "    sum = 0\n",
    "    for i in str(value):\n",
    "        sum += int(i)**power\n",
    "        \n",
    "    return sum==value"
   ]
  },
  {
   "cell_type": "code",
   "execution_count": null,
   "id": "cdb4d67f",
   "metadata": {},
   "outputs": [],
   "source": [
    "# Highest Ranked Solution\n",
    "\n",
    "def narcissistic(value):\n",
    "    return value == sum(int(x) ** len(str(value)) for x in str(value))"
   ]
  },
  {
   "cell_type": "markdown",
   "id": "433c12a8",
   "metadata": {},
   "source": [
    "## Kata - Traverse a string, output a list of strings\n",
    "\n",
    "#### Task\n",
    "In this simple Kata your task is to create a function that turns a string into a Mexican Wave. You will be passed a string and you must return that string in an array where an uppercase letter is a person standing up. \n",
    "#### Rules\n",
    " 1.  The input string will always be lower case but maybe empty.\n",
    "\n",
    " 2.  If the character in the string is whitespace then pass over it as if it was an empty seat\n",
    "Example:\n",
    "\n",
    "    ```wave(\"hello\") => [\"Hello\", \"hEllo\", \"heLlo\", \"helLo\", \"hellO\"]```"
   ]
  },
  {
   "cell_type": "code",
   "execution_count": null,
   "id": "78c24aba",
   "metadata": {},
   "outputs": [],
   "source": [
    "# My Solution\n",
    "\n",
    "def wave(string):    \n",
    "    pplarray = []    \n",
    "    for i in range(len(string)):\n",
    "        if string[i]==' ':\n",
    "            continue           \n",
    "        char=string[i].upper()\n",
    "        pplarray.append(string[:i]+char+string[i+1:])  \n",
    "        \n",
    "    return pplarray"
   ]
  },
  {
   "cell_type": "code",
   "execution_count": null,
   "id": "60e23ad0",
   "metadata": {},
   "outputs": [],
   "source": [
    "# Highest Ranked Solution\n",
    "\n",
    "def wave(str):\n",
    "    return [str[:i] + str[i].upper() + str[i+1:] for i in range(len(str)) if str[i].isalpha()]"
   ]
  },
  {
   "cell_type": "markdown",
   "id": "6ab135a9",
   "metadata": {},
   "source": [
    "## Kata - Spot the unique integer in a list\n",
    "\n",
    "There is an array with some numbers. All numbers are equal except for one. Try to find it!\n",
    "```\n",
    "find_uniq([ 1, 1, 1, 2, 1, 1 ]) == 2\n",
    "find_uniq([ 0, 0, 0.55, 0, 0 ]) == 0.55\n",
    "```\n",
    "It’s guaranteed that array contains at least 3 numbers.\n",
    "\n",
    "The tests contain some very huge arrays, so think about performance."
   ]
  },
  {
   "cell_type": "code",
   "execution_count": null,
   "id": "96be3044",
   "metadata": {},
   "outputs": [],
   "source": [
    "# My Solution\n",
    "\n",
    "def find_uniq(arr):\n",
    "    if arr[0]==arr[-1]:\n",
    "        dupe_value = arr[0]\n",
    "        for i in arr:\n",
    "            if i != dupe_value:\n",
    "                n = i\n",
    "                break\n",
    "    elif arr[0]==arr[1]:\n",
    "        n = arr[-1]\n",
    "    else:\n",
    "        n=arr[0]\n",
    "    return n  "
   ]
  },
  {
   "cell_type": "code",
   "execution_count": null,
   "id": "3e575ce8",
   "metadata": {},
   "outputs": [],
   "source": [
    "# Highest Ranked Solution\n",
    "\n",
    "def find_uniq(arr):\n",
    "    a, b = set(arr)\n",
    "    return a if arr.count(a) == 1 else b"
   ]
  },
  {
   "cell_type": "markdown",
   "id": "6c03a509",
   "metadata": {},
   "source": [
    "## Kata - Decimal to Hexidecimal\n",
    "\n",
    "The rgb function is incomplete. Complete it so that passing in RGB decimal values will result in a hexadecimal representation being returned. Valid decimal values for RGB are 0 - 255. Any values that fall out of that range must be rounded to the closest valid value.\n",
    "\n",
    "Note: Your answer should always be 6 characters long, the shorthand with 3 will not work here.\n",
    "\n",
    "The following are examples of expected output values:\n",
    "```\n",
    "rgb(255, 255, 255) # returns FFFFFF\n",
    "rgb(255, 255, 300) # returns FFFFFF\n",
    "rgb(0,0,0) # returns 000000\n",
    "rgb(148, 0, 211) # returns 9400D3\n",
    "```"
   ]
  },
  {
   "cell_type": "code",
   "execution_count": null,
   "id": "f4b48cc6",
   "metadata": {},
   "outputs": [],
   "source": [
    "# My Solution\n",
    "\n",
    "def rgb(r, g, b):\n",
    "    hexstring = ''\n",
    "    \n",
    "    for d in [r,g,b]:\n",
    "        if d<0:\n",
    "            d=0\n",
    "        if d>255:\n",
    "            d=255\n",
    "        quo = d//16\n",
    "        rem = d%16\n",
    "           \n",
    "        for v in [quo,rem]:\n",
    "            if v==10:\n",
    "                v='A'\n",
    "            elif v==11:\n",
    "                v='B'\n",
    "            elif v==12:\n",
    "                v='C'\n",
    "            elif v==13:\n",
    "                v='D'\n",
    "            elif v==14:\n",
    "                v='E'\n",
    "            elif v==15:\n",
    "                v='F'\n",
    "            else:\n",
    "                v=str(v)   \n",
    "            hexstring += v\n",
    "            \n",
    "    return hexstring"
   ]
  },
  {
   "cell_type": "code",
   "execution_count": null,
   "id": "85ead7f7",
   "metadata": {},
   "outputs": [],
   "source": [
    "# Highest Ranked Solution\n",
    "\n",
    "def rgb(r, g, b):\n",
    "    round = lambda x: min(255, max(x, 0))\n",
    "    return (\"{:02X}\" * 3).format(round(r), round(g), round(b))"
   ]
  },
  {
   "cell_type": "markdown",
   "id": "471bf514",
   "metadata": {},
   "source": [
    "## Kata - Loop thru an integer, multiply the digits, and count\n",
    "\n",
    "Write a function, persistence, that takes in a positive parameter num and returns its multiplicative persistence, which is the number of times you must multiply the digits in num until you reach a single digit.\n",
    "\n",
    "For example:\n",
    "\n",
    "    persistence(39) # returns 3, because 3*9=27, 2*7=14, 1*4=4\n",
    "                 # and 4 has only one digit\n",
    "                  \n",
    "    persistence(999) # returns 4, because 9*9*9=729, 7*2*9=126,\n",
    "                  # 1*2*6=12, and finally 1*2=2\n",
    "\n",
    "    persistence(4) # returns 0, because 4 is already a one-digit number"
   ]
  },
  {
   "cell_type": "code",
   "execution_count": null,
   "id": "0f3377e0",
   "metadata": {},
   "outputs": [],
   "source": [
    "# My Solution\n",
    "\n",
    "def persistence(n):\n",
    "    counter=0\n",
    "\n",
    "    while len(str(n))>1:\n",
    "        counter+=1\n",
    "        mult = 1\n",
    "        for i in list(str(n)):\n",
    "            mult *= int(i)\n",
    "        n = mult    \n",
    "\n",
    "    return counter"
   ]
  },
  {
   "cell_type": "code",
   "execution_count": null,
   "id": "f09f1cb9",
   "metadata": {},
   "outputs": [],
   "source": [
    "# Highest Ranked Solution\n",
    "\n",
    "import operator\n",
    "def persistence(n):\n",
    "    i = 0\n",
    "    while n>=10:\n",
    "        n=reduce(operator.mul,[int(x) for x in str(n)],1)\n",
    "        i+=1\n",
    "    return i"
   ]
  },
  {
   "cell_type": "markdown",
   "id": "45dd29d7",
   "metadata": {},
   "source": [
    "## Kata - Find odd integer in a list\n",
    "\n",
    "Given an array of integers, find the one that appears an odd number of times.\n",
    "\n",
    "There will always be only one integer that appears an odd number of times.\n",
    "\n",
    "Examples\n",
    "\n",
    "    [7] should return 7, because it occurs 1 time (which is odd).\n",
    "    [0] should return 0, because it occurs 1 time (which is odd).\n",
    "    [1,1,2] should return 2, because it occurs 1 time (which is odd).\n",
    "    [0,1,0,1,0] should return 0, because it occurs 3 times (which is odd).\n",
    "    [1,2,2,3,3,3,4,3,3,3,2,2,1] should return 4, because it appears 1 time (which is odd)."
   ]
  },
  {
   "cell_type": "code",
   "execution_count": null,
   "id": "179fac5c",
   "metadata": {},
   "outputs": [],
   "source": [
    "# My Solution\n",
    "\n",
    "def find_it(seq):\n",
    "    \n",
    "    # create empty dictionary\n",
    "    count = {}\n",
    "\n",
    "    # traverse the array\n",
    "    for item in seq:\n",
    "        \n",
    "        # create a new key-value pair for each unique element\n",
    "        if item not in count:   \n",
    "            count[item]=1\n",
    "            \n",
    "        # increment the value by 1 each time the key is repeated\n",
    "        else:\n",
    "            count[item]+=1\n",
    "\n",
    "    # traverse the dictionary, tuple by tuple\n",
    "    for item in count.items():\n",
    "        \n",
    "        # if the dictionary value is odd, return the dictionary key\n",
    "        if item[1] % 2 != 0:\n",
    "            return item[0]"
   ]
  },
  {
   "cell_type": "code",
   "execution_count": null,
   "id": "31718103",
   "metadata": {},
   "outputs": [],
   "source": [
    "# Highest Ranked Solution\n",
    "\n",
    "def find_it(seq):\n",
    "    for i in seq:\n",
    "        if seq.count(i)%2!=0:\n",
    "            return i"
   ]
  },
  {
   "cell_type": "markdown",
   "id": "51cb2860",
   "metadata": {},
   "source": [
    "## Kata - Count bits\n",
    "\n",
    "Write a function that takes an integer as input, and returns the number of bits that are equal to one in the binary representation of that number. You can guarantee that input is non-negative.\n",
    "\n",
    "Example: The binary representation of 1234 is 10011010010, so the function should return 5 in this case"
   ]
  },
  {
   "cell_type": "code",
   "execution_count": null,
   "id": "b193f4fa",
   "metadata": {},
   "outputs": [],
   "source": [
    "# My Solution\n",
    "\n",
    "def count_bits(n):\n",
    "    return bin(n).replace(\"0b\", \"\").count('1')"
   ]
  },
  {
   "cell_type": "code",
   "execution_count": null,
   "id": "606b2b15",
   "metadata": {},
   "outputs": [],
   "source": [
    "# Highest Ranked Solution\n",
    "\n",
    "def countBits(n):\n",
    "    return bin(n).count(\"1\")"
   ]
  },
  {
   "cell_type": "markdown",
   "id": "6c8b1f41",
   "metadata": {},
   "source": [
    "## Kata - Traverse digits in an integer, square them, and rejoin into new string\n",
    "\n",
    "Welcome. In this kata, you are asked to square every digit of a number and concatenate them.\n",
    "\n",
    "For example, if we run 9119 through the function, 811181 will come out, because 9^2 is 81 and 1^2 is 1.\n",
    "\n",
    "Note: The function accepts an integer and returns an integer"
   ]
  },
  {
   "cell_type": "code",
   "execution_count": null,
   "id": "318db021",
   "metadata": {},
   "outputs": [],
   "source": [
    "# My Solution\n",
    "\n",
    "def square_digits(num):\n",
    "    return int(''.join(str(v) for v in [int(x)**2 for x in str(num)]))"
   ]
  },
  {
   "cell_type": "code",
   "execution_count": null,
   "id": "58b4bf91",
   "metadata": {},
   "outputs": [],
   "source": [
    "# Highest Ranked Solution\n",
    "\n",
    "def square_digits(num):\n",
    "    ret = \"\"\n",
    "    for x in str(num):\n",
    "        ret += str(int(x)**2)\n",
    "    return int(ret)"
   ]
  },
  {
   "cell_type": "markdown",
   "id": "7f9c245d",
   "metadata": {},
   "source": [
    "## Kata - Rearrange numbers in descending order\n",
    "\n",
    "Your task is to make a function that can take any non-negative integer as an argument and return it with its digits in descending order. Essentially, rearrange the digits to create the highest possible number.\n",
    "\n",
    "Examples:\n",
    "\n",
    "    Input: 42145 Output: 54421\n",
    "\n",
    "    Input: 145263 Output: 654321\n",
    "\n",
    "    Input: 123456789 Output: 987654321"
   ]
  },
  {
   "cell_type": "code",
   "execution_count": null,
   "id": "42decbed",
   "metadata": {},
   "outputs": [],
   "source": [
    "# My Solution\n",
    "\n",
    "def descending_order(num):\n",
    "    \n",
    "    sortednum = sorted([char for char in str(num)], reverse=True)\n",
    "\n",
    "    newstr=''\n",
    "\n",
    "    for x in sortednum:\n",
    "        newstr+=x \n",
    "\n",
    "    return int(newstr)"
   ]
  },
  {
   "cell_type": "code",
   "execution_count": null,
   "id": "acc092e0",
   "metadata": {},
   "outputs": [],
   "source": [
    "# Highest Ranked Solution\n",
    "\n",
    "def Descending_Order(num):\n",
    "    return int(\"\".join(sorted(str(num), reverse=True)))"
   ]
  },
  {
   "cell_type": "markdown",
   "id": "f42ff515",
   "metadata": {},
   "source": [
    "## Kata - Sum of all multiples of 3 or 5 below n\n",
    "\n",
    "If we list all the natural numbers below 10 that are multiples of 3 or 5, we get 3, 5, 6 and 9. The sum of these multiples is 23.\n",
    "\n",
    "Finish the solution so that it returns the sum of all the multiples of 3 or 5 below the number passed in. Additionally, if the number is negative, return 0 (for languages that do have them).\n",
    "\n",
    "Note: If the number is a multiple of both 3 and 5, only count it once."
   ]
  },
  {
   "cell_type": "code",
   "execution_count": null,
   "id": "fa24a327",
   "metadata": {},
   "outputs": [],
   "source": [
    "# My Solution\n",
    "\n",
    "def solution(number):\n",
    "    s=0\n",
    "    if number>0:\n",
    "        for i in range(number):\n",
    "            if i%3==0 or i%5==0:\n",
    "                s+=i\n",
    "    return s"
   ]
  },
  {
   "cell_type": "code",
   "execution_count": null,
   "id": "baeb7559",
   "metadata": {},
   "outputs": [],
   "source": [
    "# Highest Ranked Solution\n",
    "\n",
    "def solution(number):\n",
    "    return sum(x for x in range(number) if x % 3 == 0 or x % 5 == 0)"
   ]
  },
  {
   "cell_type": "markdown",
   "id": "2cd20174",
   "metadata": {},
   "source": [
    "## Kata - Multiply \n",
    "\n"
   ]
  },
  {
   "cell_type": "code",
   "execution_count": null,
   "id": "f15126ec",
   "metadata": {},
   "outputs": [],
   "source": [
    "# My Solution\n",
    "\n",
    "def multiply(a, b):\n",
    "    return a * b"
   ]
  },
  {
   "cell_type": "code",
   "execution_count": null,
   "id": "2af34a56",
   "metadata": {},
   "outputs": [],
   "source": [
    "# Highest Ranked Solution\n",
    "\n",
    "def multiply(a, b):\n",
    "    if isinstance(a, (int, float, complex)):\n",
    "        if isinstance(b, (int, float, complex)):\n",
    "            return a * b"
   ]
  },
  {
   "cell_type": "markdown",
   "id": "dc86843f",
   "metadata": {},
   "source": [
    "## Kata - Change String to Cipher\n",
    "\n",
    "ROT13 is a simple letter substitution cipher that replaces a letter with the letter 13 letters after it in the alphabet. ROT13 is an example of the Caesar cipher.\n",
    "\n",
    "Create a function that takes a string and returns the string ciphered with Rot13. If there are numbers or special characters included in the string, they should be returned as they are. Only letters from the latin/english alphabet should be shifted, like in the original Rot13 \"implementation\".\n",
    "\n",
    "Please note that using `encode` is considered cheating."
   ]
  },
  {
   "cell_type": "code",
   "execution_count": null,
   "id": "cb3b2c88",
   "metadata": {},
   "outputs": [],
   "source": [
    "# My Solution\n",
    "\n",
    "def rot13(message):\n",
    "    \n",
    "    cipher = ''\n",
    "    \n",
    "    for char in message:\n",
    "        \n",
    "        u = ord(char)\n",
    "        \n",
    "        if u>=65 and u<=90:\n",
    "            \n",
    "            u = u+13\n",
    "            if u>90:\n",
    "                u = u-26   \n",
    "            \n",
    "        elif u>=97 and u<=122:\n",
    "            \n",
    "            u = u+13\n",
    "            if u >122:\n",
    "                u = u-26\n",
    "            \n",
    "        cipher += chr(u)    \n",
    "        \n",
    "    return cipher"
   ]
  },
  {
   "cell_type": "code",
   "execution_count": null,
   "id": "f699a296",
   "metadata": {},
   "outputs": [],
   "source": [
    "# Highest Ranked Solution\n",
    "\n",
    "def rot13(message):\n",
    "    abc = \"abcdefghijklmnopqrstuvwxyzABCDEFGHIJKLMNOPQRSTUVWXYZ\"\n",
    "    cba = \"nopqrstuvwxyzabcdefghijklmNOPQRSTUVWXYZABCDEFGHIJKLM\"\n",
    "    mytable = message.maketrans(abc, cba)\n",
    "    return message.translate(mytable)"
   ]
  }
 ],
 "metadata": {
  "kernelspec": {
   "display_name": "Python 3",
   "language": "python",
   "name": "python3"
  },
  "language_info": {
   "codemirror_mode": {
    "name": "ipython",
    "version": 3
   },
   "file_extension": ".py",
   "mimetype": "text/x-python",
   "name": "python",
   "nbconvert_exporter": "python",
   "pygments_lexer": "ipython3",
   "version": "3.8.8"
  }
 },
 "nbformat": 4,
 "nbformat_minor": 5
}
