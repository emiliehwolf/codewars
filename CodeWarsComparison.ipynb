{
 "cells": [
  {
   "cell_type": "markdown",
   "id": "25740fe7",
   "metadata": {},
   "source": [
    "# My Solutions vs \"Best Practice\"\n",
    "\n",
    "***"
   ]
  },
  {
   "cell_type": "markdown",
   "id": "af0b8b8d",
   "metadata": {},
   "source": [
    "## Kata - Traverse digits in a number and output boolean\n",
    "A Narcissistic Number is a positive number which is the sum of its own digits, each raised to the power of the number of digits in a given base. In this Kata, we will restrict ourselves to decimal (base 10).\n",
    "\n",
    "For example, take 153 (3 digits), which is narcisstic:\n",
    "\n",
    "    1^3 + 5^3 + 3^3 = 1 + 125 + 27 = 153\n",
    "\n",
    "and 1652 (4 digits), which isn't:\n",
    "\n",
    "    1^4 + 6^4 + 5^4 + 2^4 = 1 + 1296 + 625 + 16 = 1938\n",
    "\n",
    "#### The Challenge:\n",
    "Your code must return true or false (not 'true' and 'false') depending upon whether the given number is a Narcissistic number in base 10. This may be True and False in your language, e.g. PHP.\n",
    "\n",
    "Error checking for text strings or other invalid inputs is not required, only valid positive non-zero integers will be passed into the function."
   ]
  },
  {
   "cell_type": "code",
   "execution_count": 1,
   "id": "f4805583",
   "metadata": {},
   "outputs": [],
   "source": [
    "# My Solution\n",
    "\n",
    "def narcissistic( value ):\n",
    "    power = len(str(value))\n",
    "    sum = 0\n",
    "    for i in str(value):\n",
    "        sum += int(i)**power\n",
    "        \n",
    "    return sum==value"
   ]
  },
  {
   "cell_type": "code",
   "execution_count": null,
   "id": "f645d0a4",
   "metadata": {},
   "outputs": [],
   "source": [
    "# Highest Ranked Solution\n",
    "\n",
    "def narcissistic(value):\n",
    "    return value == sum(int(x) ** len(str(value)) for x in str(value))"
   ]
  },
  {
   "cell_type": "markdown",
   "id": "e462a686",
   "metadata": {},
   "source": [
    "## Kata - Traverse a string, output a list of strings\n",
    "\n",
    "#### Task\n",
    "In this simple Kata your task is to create a function that turns a string into a Mexican Wave. You will be passed a string and you must return that string in an array where an uppercase letter is a person standing up. \n",
    "#### Rules\n",
    " 1.  The input string will always be lower case but maybe empty.\n",
    "\n",
    " 2.  If the character in the string is whitespace then pass over it as if it was an empty seat\n",
    "Example:\n",
    "\n",
    "    ```wave(\"hello\") => [\"Hello\", \"hEllo\", \"heLlo\", \"helLo\", \"hellO\"]```"
   ]
  },
  {
   "cell_type": "code",
   "execution_count": null,
   "id": "0fd1295a",
   "metadata": {},
   "outputs": [],
   "source": [
    "# My Solution\n",
    "\n",
    "def wave(string):    \n",
    "    pplarray = []    \n",
    "    for i in range(len(string)):\n",
    "        if string[i]==' ':\n",
    "            continue           \n",
    "        char=string[i].upper()\n",
    "        pplarray.append(string[:i]+char+string[i+1:])  \n",
    "        \n",
    "    return pplarray"
   ]
  },
  {
   "cell_type": "code",
   "execution_count": null,
   "id": "5de3435a",
   "metadata": {},
   "outputs": [],
   "source": [
    "# Highest Ranked Solution\n",
    "\n",
    "def wave(str):\n",
    "    return [str[:i] + str[i].upper() + str[i+1:] for i in range(len(str)) if str[i].isalpha()]"
   ]
  },
  {
   "cell_type": "markdown",
   "id": "0340830b",
   "metadata": {},
   "source": [
    "## Kata - Spot the unique integer in a list\n",
    "\n",
    "There is an array with some numbers. All numbers are equal except for one. Try to find it!\n",
    "```\n",
    "find_uniq([ 1, 1, 1, 2, 1, 1 ]) == 2\n",
    "find_uniq([ 0, 0, 0.55, 0, 0 ]) == 0.55\n",
    "```\n",
    "It’s guaranteed that array contains at least 3 numbers.\n",
    "\n",
    "The tests contain some very huge arrays, so think about performance."
   ]
  },
  {
   "cell_type": "code",
   "execution_count": null,
   "id": "1afdfd59",
   "metadata": {},
   "outputs": [],
   "source": [
    "# My Solution\n",
    "\n",
    "def find_uniq(arr):\n",
    "    if arr[0]==arr[-1]:\n",
    "        dupe_value = arr[0]\n",
    "        for i in arr:\n",
    "            if i != dupe_value:\n",
    "                n = i\n",
    "                break\n",
    "    elif arr[0]==arr[1]:\n",
    "        n = arr[-1]\n",
    "    else:\n",
    "        n=arr[0]\n",
    "    return n  "
   ]
  },
  {
   "cell_type": "code",
   "execution_count": null,
   "id": "478b6fe6",
   "metadata": {},
   "outputs": [],
   "source": [
    "# Highest Ranked Solution\n",
    "\n",
    "def find_uniq(arr):\n",
    "    a, b = set(arr)\n",
    "    return a if arr.count(a) == 1 else b"
   ]
  },
  {
   "cell_type": "markdown",
   "id": "44ee940f",
   "metadata": {},
   "source": [
    "## Kata - Decimal to Hexidecimal\n",
    "\n",
    "The rgb function is incomplete. Complete it so that passing in RGB decimal values will result in a hexadecimal representation being returned. Valid decimal values for RGB are 0 - 255. Any values that fall out of that range must be rounded to the closest valid value.\n",
    "\n",
    "Note: Your answer should always be 6 characters long, the shorthand with 3 will not work here.\n",
    "\n",
    "The following are examples of expected output values:\n",
    "```\n",
    "rgb(255, 255, 255) # returns FFFFFF\n",
    "rgb(255, 255, 300) # returns FFFFFF\n",
    "rgb(0,0,0) # returns 000000\n",
    "rgb(148, 0, 211) # returns 9400D3\n",
    "```"
   ]
  },
  {
   "cell_type": "code",
   "execution_count": null,
   "id": "ca7003ea",
   "metadata": {},
   "outputs": [],
   "source": [
    "# My Solution\n",
    "\n",
    "def rgb(r, g, b):\n",
    "    hexstring = ''\n",
    "    \n",
    "    for d in [r,g,b]:\n",
    "        if d<0:\n",
    "            d=0\n",
    "        if d>255:\n",
    "            d=255\n",
    "        quo = d//16\n",
    "        rem = d%16\n",
    "           \n",
    "        for v in [quo,rem]:\n",
    "            if v==10:\n",
    "                v='A'\n",
    "            elif v==11:\n",
    "                v='B'\n",
    "            elif v==12:\n",
    "                v='C'\n",
    "            elif v==13:\n",
    "                v='D'\n",
    "            elif v==14:\n",
    "                v='E'\n",
    "            elif v==15:\n",
    "                v='F'\n",
    "            else:\n",
    "                v=str(v)   \n",
    "            hexstring += v\n",
    "            \n",
    "    return hexstring"
   ]
  },
  {
   "cell_type": "code",
   "execution_count": null,
   "id": "cedd355f",
   "metadata": {},
   "outputs": [],
   "source": [
    "# Highest Ranked Solution\n",
    "\n",
    "def rgb(r, g, b):\n",
    "    round = lambda x: min(255, max(x, 0))\n",
    "    return (\"{:02X}\" * 3).format(round(r), round(g), round(b))"
   ]
  },
  {
   "cell_type": "markdown",
   "id": "1fba729d",
   "metadata": {},
   "source": [
    "## Kata - Loop thru an integer, multiply the digits, and count\n",
    "\n",
    "Write a function, persistence, that takes in a positive parameter num and returns its multiplicative persistence, which is the number of times you must multiply the digits in num until you reach a single digit.\n",
    "\n",
    "For example:\n",
    "\n",
    "    persistence(39) # returns 3, because 3*9=27, 2*7=14, 1*4=4\n",
    "                 # and 4 has only one digit\n",
    "                  \n",
    "    persistence(999) # returns 4, because 9*9*9=729, 7*2*9=126,\n",
    "                  # 1*2*6=12, and finally 1*2=2\n",
    "\n",
    "    persistence(4) # returns 0, because 4 is already a one-digit number"
   ]
  },
  {
   "cell_type": "code",
   "execution_count": null,
   "id": "02f757e1",
   "metadata": {},
   "outputs": [],
   "source": [
    "# My Solution\n",
    "\n",
    "def persistence(n):\n",
    "    counter=0\n",
    "\n",
    "    while len(str(n))>1:\n",
    "        counter+=1\n",
    "        mult = 1\n",
    "        for i in list(str(n)):\n",
    "            mult *= int(i)\n",
    "        n = mult    \n",
    "\n",
    "    return counter"
   ]
  },
  {
   "cell_type": "code",
   "execution_count": null,
   "id": "c0d51790",
   "metadata": {},
   "outputs": [],
   "source": [
    "# Highest Ranked Solution\n",
    "\n",
    "import operator\n",
    "def persistence(n):\n",
    "    i = 0\n",
    "    while n>=10:\n",
    "        n=reduce(operator.mul,[int(x) for x in str(n)],1)\n",
    "        i+=1\n",
    "    return i"
   ]
  },
  {
   "cell_type": "markdown",
   "id": "6d1ea758",
   "metadata": {},
   "source": [
    "## Kata - Find odd integer in a list\n",
    "\n",
    "Given an array of integers, find the one that appears an odd number of times.\n",
    "\n",
    "There will always be only one integer that appears an odd number of times.\n",
    "\n",
    "Examples\n",
    "\n",
    "    [7] should return 7, because it occurs 1 time (which is odd).\n",
    "    [0] should return 0, because it occurs 1 time (which is odd).\n",
    "    [1,1,2] should return 2, because it occurs 1 time (which is odd).\n",
    "    [0,1,0,1,0] should return 0, because it occurs 3 times (which is odd).\n",
    "    [1,2,2,3,3,3,4,3,3,3,2,2,1] should return 4, because it appears 1 time (which is odd)."
   ]
  },
  {
   "cell_type": "code",
   "execution_count": 2,
   "id": "614c0464",
   "metadata": {},
   "outputs": [],
   "source": [
    "# My Solution\n",
    "\n",
    "def find_it(seq):\n",
    "    \n",
    "    # create empty dictionary\n",
    "    count = {}\n",
    "\n",
    "    # traverse the array\n",
    "    for item in seq:\n",
    "        \n",
    "        # create a new key-value pair for each unique element\n",
    "        if item not in count:   \n",
    "            count[item]=1\n",
    "            \n",
    "        # increment the value by 1 each time the key is repeated\n",
    "        else:\n",
    "            count[item]+=1\n",
    "\n",
    "    # traverse the dictionary, tuple by tuple\n",
    "    for item in count.items():\n",
    "        \n",
    "        # if the dictionary value is odd, return the dictionary key\n",
    "        if item[1] % 2 != 0:\n",
    "            return item[0]"
   ]
  },
  {
   "cell_type": "code",
   "execution_count": null,
   "id": "63b390fd",
   "metadata": {},
   "outputs": [],
   "source": [
    "# Highest Ranked Solution\n",
    "\n",
    "def find_it(seq):\n",
    "    for i in seq:\n",
    "        if seq.count(i)%2!=0:\n",
    "            return i"
   ]
  },
  {
   "cell_type": "markdown",
   "id": "f6579855",
   "metadata": {},
   "source": [
    "## Kata - Count bits\n",
    "\n",
    "Write a function that takes an integer as input, and returns the number of bits that are equal to one in the binary representation of that number. You can guarantee that input is non-negative.\n",
    "\n",
    "Example: The binary representation of 1234 is 10011010010, so the function should return 5 in this case"
   ]
  },
  {
   "cell_type": "code",
   "execution_count": 3,
   "id": "18c9eb25",
   "metadata": {},
   "outputs": [],
   "source": [
    "# My Solution\n",
    "\n",
    "def count_bits(n):\n",
    "    return bin(n).replace(\"0b\", \"\").count('1')"
   ]
  },
  {
   "cell_type": "code",
   "execution_count": null,
   "id": "96095f89",
   "metadata": {},
   "outputs": [],
   "source": [
    "# Highest Ranked Solution\n",
    "\n",
    "def countBits(n):\n",
    "    return bin(n).count(\"1\")"
   ]
  },
  {
   "cell_type": "markdown",
   "id": "014cbf09",
   "metadata": {},
   "source": [
    "## Kata - Traverse digits in an integer, square them, and rejoin into new string\n",
    "\n",
    "Welcome. In this kata, you are asked to square every digit of a number and concatenate them.\n",
    "\n",
    "For example, if we run 9119 through the function, 811181 will come out, because 9^2 is 81 and 1^2 is 1.\n",
    "\n",
    "Note: The function accepts an integer and returns an integer"
   ]
  },
  {
   "cell_type": "code",
   "execution_count": 4,
   "id": "40e4f760",
   "metadata": {},
   "outputs": [],
   "source": [
    "# My Solution\n",
    "\n",
    "def square_digits(num):\n",
    "    return int(''.join(str(v) for v in [int(x)**2 for x in str(num)]))"
   ]
  },
  {
   "cell_type": "code",
   "execution_count": null,
   "id": "925b9333",
   "metadata": {},
   "outputs": [],
   "source": [
    "# Highest Ranked Solution\n",
    "\n",
    "def square_digits(num):\n",
    "    ret = \"\"\n",
    "    for x in str(num):\n",
    "        ret += str(int(x)**2)\n",
    "    return int(ret)"
   ]
  },
  {
   "cell_type": "markdown",
   "id": "7b32b6f1",
   "metadata": {},
   "source": [
    "## Kata - Rearrange numbers in descending order\n",
    "\n",
    "Your task is to make a function that can take any non-negative integer as an argument and return it with its digits in descending order. Essentially, rearrange the digits to create the highest possible number.\n",
    "\n",
    "Examples:\n",
    "\n",
    "    Input: 42145 Output: 54421\n",
    "\n",
    "    Input: 145263 Output: 654321\n",
    "\n",
    "    Input: 123456789 Output: 987654321"
   ]
  },
  {
   "cell_type": "code",
   "execution_count": 5,
   "id": "efcb4973",
   "metadata": {},
   "outputs": [],
   "source": [
    "# My Solution\n",
    "\n",
    "def descending_order(num):\n",
    "    \n",
    "    sortednum = sorted([char for char in str(num)], reverse=True)\n",
    "\n",
    "    newstr=''\n",
    "\n",
    "    for x in sortednum:\n",
    "        newstr+=x \n",
    "\n",
    "    return int(newstr)"
   ]
  },
  {
   "cell_type": "code",
   "execution_count": null,
   "id": "2417c0f3",
   "metadata": {},
   "outputs": [],
   "source": [
    "# Highest Ranked Solution\n",
    "\n",
    "def Descending_Order(num):\n",
    "    return int(\"\".join(sorted(str(num), reverse=True)))"
   ]
  },
  {
   "cell_type": "markdown",
   "id": "12cd43f0",
   "metadata": {},
   "source": [
    "## Kata - Sum of all multiples of 3 or 5 below n\n",
    "\n",
    "If we list all the natural numbers below 10 that are multiples of 3 or 5, we get 3, 5, 6 and 9. The sum of these multiples is 23.\n",
    "\n",
    "Finish the solution so that it returns the sum of all the multiples of 3 or 5 below the number passed in. Additionally, if the number is negative, return 0 (for languages that do have them).\n",
    "\n",
    "Note: If the number is a multiple of both 3 and 5, only count it once."
   ]
  },
  {
   "cell_type": "code",
   "execution_count": 6,
   "id": "bf0513cd",
   "metadata": {},
   "outputs": [],
   "source": [
    "# My Solution\n",
    "\n",
    "def solution(number):\n",
    "    s=0\n",
    "    if number>0:\n",
    "        for i in range(number):\n",
    "            if i%3==0 or i%5==0:\n",
    "                s+=i\n",
    "    return s"
   ]
  },
  {
   "cell_type": "code",
   "execution_count": 7,
   "id": "92b1693e",
   "metadata": {},
   "outputs": [],
   "source": [
    "# Highest Ranked Solution\n",
    "\n",
    "def solution(number):\n",
    "    return sum(x for x in range(number) if x % 3 == 0 or x % 5 == 0)"
   ]
  },
  {
   "cell_type": "markdown",
   "id": "a085f1dc",
   "metadata": {},
   "source": [
    "## Kata - Multiply \n",
    "\n"
   ]
  },
  {
   "cell_type": "code",
   "execution_count": 8,
   "id": "5e2778c4",
   "metadata": {},
   "outputs": [],
   "source": [
    "# My Solution\n",
    "\n",
    "def multiply(a, b):\n",
    "    return a * b"
   ]
  },
  {
   "cell_type": "code",
   "execution_count": null,
   "id": "c90caafa",
   "metadata": {},
   "outputs": [],
   "source": [
    "# Highest Ranked Solution\n",
    "\n",
    "def multiply(a, b):\n",
    "    if isinstance(a, (int, float, complex)):\n",
    "        if isinstance(b, (int, float, complex)):\n",
    "            return a * b"
   ]
  },
  {
   "cell_type": "markdown",
   "id": "aa9b913e",
   "metadata": {},
   "source": [
    "## Kata - Change String to Cipher\n",
    "\n",
    "ROT13 is a simple letter substitution cipher that replaces a letter with the letter 13 letters after it in the alphabet. ROT13 is an example of the Caesar cipher.\n",
    "\n",
    "Create a function that takes a string and returns the string ciphered with Rot13. If there are numbers or special characters included in the string, they should be returned as they are. Only letters from the latin/english alphabet should be shifted, like in the original Rot13 \"implementation\".\n",
    "\n",
    "Please note that using `encode` is considered cheating."
   ]
  },
  {
   "cell_type": "code",
   "execution_count": 21,
   "id": "8c6fd679",
   "metadata": {},
   "outputs": [],
   "source": [
    "# My Solution\n",
    "\n",
    "def rot13(message):\n",
    "    \n",
    "    cipher = ''\n",
    "    \n",
    "    for char in message:\n",
    "        \n",
    "        u = ord(char)\n",
    "        \n",
    "        if u>=65 and u<=90:\n",
    "            \n",
    "            u = u+13\n",
    "            if u>90:\n",
    "                u = u-26   \n",
    "            \n",
    "        elif u>=97 and u<=122:\n",
    "            \n",
    "            u = u+13\n",
    "            if u >122:\n",
    "                u = u-26\n",
    "            \n",
    "        cipher += chr(u)    \n",
    "        \n",
    "    return cipher"
   ]
  },
  {
   "cell_type": "code",
   "execution_count": null,
   "id": "00d2c32e",
   "metadata": {},
   "outputs": [],
   "source": [
    "# Highest Ranked Solution\n",
    "\n",
    "def rot13(message):\n",
    "    abc = \"abcdefghijklmnopqrstuvwxyzABCDEFGHIJKLMNOPQRSTUVWXYZ\"\n",
    "    cba = \"nopqrstuvwxyzabcdefghijklmNOPQRSTUVWXYZABCDEFGHIJKLM\"\n",
    "    mytable = message.maketrans(abc, cba)\n",
    "    return message.translate(mytable)"
   ]
  }
 ],
 "metadata": {
  "kernelspec": {
   "display_name": "Python 3",
   "language": "python",
   "name": "python3"
  },
  "language_info": {
   "codemirror_mode": {
    "name": "ipython",
    "version": 3
   },
   "file_extension": ".py",
   "mimetype": "text/x-python",
   "name": "python",
   "nbconvert_exporter": "python",
   "pygments_lexer": "ipython3",
   "version": "3.8.8"
  }
 },
 "nbformat": 4,
 "nbformat_minor": 5
}
